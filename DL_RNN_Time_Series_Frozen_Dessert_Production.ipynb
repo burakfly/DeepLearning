{
  "cells": [
    {
      "cell_type": "markdown",
      "metadata": {
        "id": "PrH59S4kW0UC"
      },
      "source": [
        "# Product Amount Forecast by Time"
      ]
    },
    {
      "cell_type": "markdown",
      "metadata": {
        "id": "VmTfi-sqW0UK"
      },
      "source": [
        "## Data\n",
        "\n",
        "Info about this data set: https://fred.stlouisfed.org/series/IPN31152N\n",
        "\n",
        "\n",
        "Units:  Index 2012=100, Not Seasonally Adjusted\n",
        "\n",
        "Frequency:  Monthly\n",
        "\n",
        "The industrial production (IP) index measures the real output of all relevant establishments located in the United States, regardless of their ownership, but not those located in U.S. territories.\n",
        "\n",
        "NAICS = 31152\n",
        "\n",
        "Source Code: IP.N31152.N\n",
        "\n",
        "Suggested Citation:\n",
        "Board of Governors of the Federal Reserve System (US), Industrial Production: Nondurable Goods: Ice cream and frozen dessert [IPN31152N], retrieved from FRED, Federal Reserve Bank of St. Louis; https://fred.stlouisfed.org/series/IPN31152N, November 16, 2019."
      ]
    },
    {
      "cell_type": "markdown",
      "metadata": {
        "id": "JgbAMYoeW0UM"
      },
      "source": [
        "## Import Libraries"
      ]
    },
    {
      "cell_type": "code",
      "execution_count": 1,
      "metadata": {
        "id": "iALmCpKJW0UN"
      },
      "outputs": [],
      "source": [
        "import numpy as np\n",
        "import pandas as pd\n",
        "import matplotlib.pyplot as plt\n",
        "import seaborn as sns\n",
        "\n",
        "import warnings\n",
        "warnings.filterwarnings(\"ignore\")\n",
        "warnings.warn(\"this will not show\")\n",
        "\n",
        "plt.rcParams[\"figure.figsize\"] = (10,6)\n",
        "\n",
        "sns.set_style(\"whitegrid\")\n",
        "pd.set_option('display.float_format', lambda x: '%.3f' % x)\n",
        "\n",
        "# Set it None to display all rows in the dataframe\n",
        "# pd.set_option('display.max_rows', None)\n",
        "\n",
        "# Set it to None to display all columns in the dataframe\n",
        "pd.set_option('display.max_columns', None)"
      ]
    },
    {
      "cell_type": "markdown",
      "metadata": {
        "id": "w5nV2oy4W0UP"
      },
      "source": [
        "## Indest Data"
      ]
    },
    {
      "cell_type": "code",
      "execution_count": 3,
      "metadata": {},
      "outputs": [],
      "source": [
        "df = pd.read_csv(\"Frozen_Dessert_Production.csv\",\n",
        "                 index_col=0,\n",
        "                 parse_dates=True)"
      ]
    },
    {
      "cell_type": "code",
      "execution_count": 4,
      "metadata": {},
      "outputs": [
        {
          "data": {
            "text/html": [
              "<div>\n",
              "<style scoped>\n",
              "    .dataframe tbody tr th:only-of-type {\n",
              "        vertical-align: middle;\n",
              "    }\n",
              "\n",
              "    .dataframe tbody tr th {\n",
              "        vertical-align: top;\n",
              "    }\n",
              "\n",
              "    .dataframe thead th {\n",
              "        text-align: right;\n",
              "    }\n",
              "</style>\n",
              "<table border=\"1\" class=\"dataframe\">\n",
              "  <thead>\n",
              "    <tr style=\"text-align: right;\">\n",
              "      <th></th>\n",
              "      <th>IPN31152N</th>\n",
              "    </tr>\n",
              "    <tr>\n",
              "      <th>DATE</th>\n",
              "      <th></th>\n",
              "    </tr>\n",
              "  </thead>\n",
              "  <tbody>\n",
              "    <tr>\n",
              "      <th>1972-01-01</th>\n",
              "      <td>59.962</td>\n",
              "    </tr>\n",
              "    <tr>\n",
              "      <th>1972-02-01</th>\n",
              "      <td>67.061</td>\n",
              "    </tr>\n",
              "    <tr>\n",
              "      <th>1972-03-01</th>\n",
              "      <td>74.235</td>\n",
              "    </tr>\n",
              "    <tr>\n",
              "      <th>1972-04-01</th>\n",
              "      <td>78.112</td>\n",
              "    </tr>\n",
              "    <tr>\n",
              "      <th>1972-05-01</th>\n",
              "      <td>84.764</td>\n",
              "    </tr>\n",
              "    <tr>\n",
              "      <th>...</th>\n",
              "      <td>...</td>\n",
              "    </tr>\n",
              "    <tr>\n",
              "      <th>2019-05-01</th>\n",
              "      <td>114.561</td>\n",
              "    </tr>\n",
              "    <tr>\n",
              "      <th>2019-06-01</th>\n",
              "      <td>124.960</td>\n",
              "    </tr>\n",
              "    <tr>\n",
              "      <th>2019-07-01</th>\n",
              "      <td>110.263</td>\n",
              "    </tr>\n",
              "    <tr>\n",
              "      <th>2019-08-01</th>\n",
              "      <td>102.609</td>\n",
              "    </tr>\n",
              "    <tr>\n",
              "      <th>2019-09-01</th>\n",
              "      <td>101.587</td>\n",
              "    </tr>\n",
              "  </tbody>\n",
              "</table>\n",
              "<p>573 rows × 1 columns</p>\n",
              "</div>"
            ],
            "text/plain": [
              "            IPN31152N\n",
              "DATE                 \n",
              "1972-01-01     59.962\n",
              "1972-02-01     67.061\n",
              "1972-03-01     74.235\n",
              "1972-04-01     78.112\n",
              "1972-05-01     84.764\n",
              "...               ...\n",
              "2019-05-01    114.561\n",
              "2019-06-01    124.960\n",
              "2019-07-01    110.263\n",
              "2019-08-01    102.609\n",
              "2019-09-01    101.587\n",
              "\n",
              "[573 rows x 1 columns]"
            ]
          },
          "execution_count": 4,
          "metadata": {},
          "output_type": "execute_result"
        }
      ],
      "source": [
        "df"
      ]
    },
    {
      "cell_type": "markdown",
      "metadata": {
        "id": "r1DNqwCLW0UQ"
      },
      "source": [
        "## Exploratory Data Analysis and Visualization"
      ]
    },
    {
      "cell_type": "markdown",
      "metadata": {
        "id": "D_O-lYffW0UR"
      },
      "source": [
        "1. Implement basic steps to see how is your data looks like\n",
        "2. Change the column name as \"Production\"\n",
        "2. Plot your data and see its seasonalty"
      ]
    },
    {
      "cell_type": "code",
      "execution_count": 5,
      "metadata": {},
      "outputs": [],
      "source": [
        "df.rename(columns={\"IPN31152N\": \"Production\"}, inplace=True)\n",
        "# df.index = df.iloc[:,0]\n",
        "# df.index"
      ]
    },
    {
      "cell_type": "code",
      "execution_count": 6,
      "metadata": {
        "id": "bYARJqkAW0US"
      },
      "outputs": [
        {
          "data": {
            "text/html": [
              "<div>\n",
              "<style scoped>\n",
              "    .dataframe tbody tr th:only-of-type {\n",
              "        vertical-align: middle;\n",
              "    }\n",
              "\n",
              "    .dataframe tbody tr th {\n",
              "        vertical-align: top;\n",
              "    }\n",
              "\n",
              "    .dataframe thead th {\n",
              "        text-align: right;\n",
              "    }\n",
              "</style>\n",
              "<table border=\"1\" class=\"dataframe\">\n",
              "  <thead>\n",
              "    <tr style=\"text-align: right;\">\n",
              "      <th></th>\n",
              "      <th>Production</th>\n",
              "    </tr>\n",
              "    <tr>\n",
              "      <th>DATE</th>\n",
              "      <th></th>\n",
              "    </tr>\n",
              "  </thead>\n",
              "  <tbody>\n",
              "    <tr>\n",
              "      <th>1972-01-01</th>\n",
              "      <td>59.962</td>\n",
              "    </tr>\n",
              "    <tr>\n",
              "      <th>1972-02-01</th>\n",
              "      <td>67.061</td>\n",
              "    </tr>\n",
              "    <tr>\n",
              "      <th>1972-03-01</th>\n",
              "      <td>74.235</td>\n",
              "    </tr>\n",
              "    <tr>\n",
              "      <th>1972-04-01</th>\n",
              "      <td>78.112</td>\n",
              "    </tr>\n",
              "    <tr>\n",
              "      <th>1972-05-01</th>\n",
              "      <td>84.764</td>\n",
              "    </tr>\n",
              "  </tbody>\n",
              "</table>\n",
              "</div>"
            ],
            "text/plain": [
              "            Production\n",
              "DATE                  \n",
              "1972-01-01      59.962\n",
              "1972-02-01      67.061\n",
              "1972-03-01      74.235\n",
              "1972-04-01      78.112\n",
              "1972-05-01      84.764"
            ]
          },
          "execution_count": 6,
          "metadata": {},
          "output_type": "execute_result"
        }
      ],
      "source": [
        "df.head()"
      ]
    },
    {
      "cell_type": "code",
      "execution_count": 7,
      "metadata": {},
      "outputs": [
        {
          "name": "stdout",
          "output_type": "stream",
          "text": [
            "<class 'pandas.core.frame.DataFrame'>\n",
            "DatetimeIndex: 573 entries, 1972-01-01 to 2019-09-01\n",
            "Data columns (total 1 columns):\n",
            " #   Column      Non-Null Count  Dtype  \n",
            "---  ------      --------------  -----  \n",
            " 0   Production  573 non-null    float64\n",
            "dtypes: float64(1)\n",
            "memory usage: 9.0 KB\n"
          ]
        }
      ],
      "source": [
        "df.info()"
      ]
    },
    {
      "cell_type": "code",
      "execution_count": 8,
      "metadata": {},
      "outputs": [
        {
          "data": {
            "text/html": [
              "<div>\n",
              "<style scoped>\n",
              "    .dataframe tbody tr th:only-of-type {\n",
              "        vertical-align: middle;\n",
              "    }\n",
              "\n",
              "    .dataframe tbody tr th {\n",
              "        vertical-align: top;\n",
              "    }\n",
              "\n",
              "    .dataframe thead th {\n",
              "        text-align: right;\n",
              "    }\n",
              "</style>\n",
              "<table border=\"1\" class=\"dataframe\">\n",
              "  <thead>\n",
              "    <tr style=\"text-align: right;\">\n",
              "      <th></th>\n",
              "      <th>count</th>\n",
              "      <th>mean</th>\n",
              "      <th>std</th>\n",
              "      <th>min</th>\n",
              "      <th>25%</th>\n",
              "      <th>50%</th>\n",
              "      <th>75%</th>\n",
              "      <th>max</th>\n",
              "    </tr>\n",
              "  </thead>\n",
              "  <tbody>\n",
              "    <tr>\n",
              "      <th>Production</th>\n",
              "      <td>573.000</td>\n",
              "      <td>109.896</td>\n",
              "      <td>27.951</td>\n",
              "      <td>58.660</td>\n",
              "      <td>88.936</td>\n",
              "      <td>107.643</td>\n",
              "      <td>128.278</td>\n",
              "      <td>196.174</td>\n",
              "    </tr>\n",
              "  </tbody>\n",
              "</table>\n",
              "</div>"
            ],
            "text/plain": [
              "             count    mean    std    min    25%     50%     75%     max\n",
              "Production 573.000 109.896 27.951 58.660 88.936 107.643 128.278 196.174"
            ]
          },
          "execution_count": 8,
          "metadata": {},
          "output_type": "execute_result"
        }
      ],
      "source": [
        "df.describe().T"
      ]
    },
    {
      "cell_type": "code",
      "execution_count": 9,
      "metadata": {},
      "outputs": [
        {
          "data": {
            "text/plain": [
              "(573, 1)"
            ]
          },
          "execution_count": 9,
          "metadata": {},
          "output_type": "execute_result"
        }
      ],
      "source": [
        "df.shape"
      ]
    },
    {
      "cell_type": "code",
      "execution_count": 10,
      "metadata": {},
      "outputs": [
        {
          "data": {
            "text/plain": [
              "0"
            ]
          },
          "execution_count": 10,
          "metadata": {},
          "output_type": "execute_result"
        }
      ],
      "source": [
        "df.duplicated().sum()"
      ]
    },
    {
      "cell_type": "code",
      "execution_count": 11,
      "metadata": {},
      "outputs": [
        {
          "data": {
            "text/plain": [
              "Production    573\n",
              "dtype: int64"
            ]
          },
          "execution_count": 11,
          "metadata": {},
          "output_type": "execute_result"
        }
      ],
      "source": [
        "df.nunique()"
      ]
    },
    {
      "cell_type": "code",
      "execution_count": 12,
      "metadata": {},
      "outputs": [
        {
          "data": {
            "image/png": "[encoded data removed]",
            "text/plain": [
              "<Figure size 720x432 with 1 Axes>"
            ]
          },
          "metadata": {},
          "output_type": "display_data"
        }
      ],
      "source": [
        "sns.distplot(df, bins = 30);"
      ]
    },
    {
      "cell_type": "code",
      "execution_count": 13,
      "metadata": {},
      "outputs": [
        {
          "data": {
            "image/png": "[encoded data removed]",
            "text/plain": [
              "<Figure size 720x432 with 1 Axes>"
            ]
          },
          "metadata": {},
          "output_type": "display_data"
        }
      ],
      "source": [
        "df.plot(kind = 'box');"
      ]
    },
    {
      "cell_type": "code",
      "execution_count": 14,
      "metadata": {},
      "outputs": [
        {
          "data": {
            "text/html": [
              "<div>\n",
              "<style scoped>\n",
              "    .dataframe tbody tr th:only-of-type {\n",
              "        vertical-align: middle;\n",
              "    }\n",
              "\n",
              "    .dataframe tbody tr th {\n",
              "        vertical-align: top;\n",
              "    }\n",
              "\n",
              "    .dataframe thead th {\n",
              "        text-align: right;\n",
              "    }\n",
              "</style>\n",
              "<table border=\"1\" class=\"dataframe\">\n",
              "  <thead>\n",
              "    <tr style=\"text-align: right;\">\n",
              "      <th></th>\n",
              "      <th>Production</th>\n",
              "    </tr>\n",
              "    <tr>\n",
              "      <th>DATE</th>\n",
              "      <th></th>\n",
              "    </tr>\n",
              "  </thead>\n",
              "  <tbody>\n",
              "    <tr>\n",
              "      <th>2014-10-01</th>\n",
              "      <td>91.261</td>\n",
              "    </tr>\n",
              "    <tr>\n",
              "      <th>2014-11-01</th>\n",
              "      <td>86.572</td>\n",
              "    </tr>\n",
              "    <tr>\n",
              "      <th>2014-12-01</th>\n",
              "      <td>75.375</td>\n",
              "    </tr>\n",
              "    <tr>\n",
              "      <th>2015-01-01</th>\n",
              "      <td>85.577</td>\n",
              "    </tr>\n",
              "    <tr>\n",
              "      <th>2015-02-01</th>\n",
              "      <td>100.558</td>\n",
              "    </tr>\n",
              "    <tr>\n",
              "      <th>2015-03-01</th>\n",
              "      <td>109.579</td>\n",
              "    </tr>\n",
              "    <tr>\n",
              "      <th>2015-04-01</th>\n",
              "      <td>108.362</td>\n",
              "    </tr>\n",
              "    <tr>\n",
              "      <th>2015-05-01</th>\n",
              "      <td>106.058</td>\n",
              "    </tr>\n",
              "    <tr>\n",
              "      <th>2015-06-01</th>\n",
              "      <td>116.138</td>\n",
              "    </tr>\n",
              "    <tr>\n",
              "      <th>2015-07-01</th>\n",
              "      <td>108.378</td>\n",
              "    </tr>\n",
              "    <tr>\n",
              "      <th>2015-08-01</th>\n",
              "      <td>112.205</td>\n",
              "    </tr>\n",
              "    <tr>\n",
              "      <th>2015-09-01</th>\n",
              "      <td>100.348</td>\n",
              "    </tr>\n",
              "    <tr>\n",
              "      <th>2015-10-01</th>\n",
              "      <td>93.932</td>\n",
              "    </tr>\n",
              "    <tr>\n",
              "      <th>2015-11-01</th>\n",
              "      <td>85.864</td>\n",
              "    </tr>\n",
              "    <tr>\n",
              "      <th>2015-12-01</th>\n",
              "      <td>76.975</td>\n",
              "    </tr>\n",
              "    <tr>\n",
              "      <th>2016-01-01</th>\n",
              "      <td>92.811</td>\n",
              "    </tr>\n",
              "    <tr>\n",
              "      <th>2016-02-01</th>\n",
              "      <td>101.974</td>\n",
              "    </tr>\n",
              "    <tr>\n",
              "      <th>2016-03-01</th>\n",
              "      <td>116.179</td>\n",
              "    </tr>\n",
              "    <tr>\n",
              "      <th>2016-04-01</th>\n",
              "      <td>124.211</td>\n",
              "    </tr>\n",
              "    <tr>\n",
              "      <th>2016-05-01</th>\n",
              "      <td>121.543</td>\n",
              "    </tr>\n",
              "    <tr>\n",
              "      <th>2016-06-01</th>\n",
              "      <td>132.987</td>\n",
              "    </tr>\n",
              "    <tr>\n",
              "      <th>2016-07-01</th>\n",
              "      <td>124.851</td>\n",
              "    </tr>\n",
              "    <tr>\n",
              "      <th>2016-08-01</th>\n",
              "      <td>121.332</td>\n",
              "    </tr>\n",
              "    <tr>\n",
              "      <th>2016-09-01</th>\n",
              "      <td>108.036</td>\n",
              "    </tr>\n",
              "    <tr>\n",
              "      <th>2016-10-01</th>\n",
              "      <td>101.384</td>\n",
              "    </tr>\n",
              "    <tr>\n",
              "      <th>2016-11-01</th>\n",
              "      <td>86.665</td>\n",
              "    </tr>\n",
              "    <tr>\n",
              "      <th>2016-12-01</th>\n",
              "      <td>81.257</td>\n",
              "    </tr>\n",
              "    <tr>\n",
              "      <th>2017-01-01</th>\n",
              "      <td>94.245</td>\n",
              "    </tr>\n",
              "    <tr>\n",
              "      <th>2017-02-01</th>\n",
              "      <td>112.388</td>\n",
              "    </tr>\n",
              "    <tr>\n",
              "      <th>2017-03-01</th>\n",
              "      <td>119.698</td>\n",
              "    </tr>\n",
              "    <tr>\n",
              "      <th>2017-04-01</th>\n",
              "      <td>123.228</td>\n",
              "    </tr>\n",
              "    <tr>\n",
              "      <th>2017-05-01</th>\n",
              "      <td>116.064</td>\n",
              "    </tr>\n",
              "    <tr>\n",
              "      <th>2017-06-01</th>\n",
              "      <td>123.087</td>\n",
              "    </tr>\n",
              "    <tr>\n",
              "      <th>2017-07-01</th>\n",
              "      <td>116.264</td>\n",
              "    </tr>\n",
              "    <tr>\n",
              "      <th>2017-08-01</th>\n",
              "      <td>113.172</td>\n",
              "    </tr>\n",
              "    <tr>\n",
              "      <th>2017-09-01</th>\n",
              "      <td>97.912</td>\n",
              "    </tr>\n",
              "    <tr>\n",
              "      <th>2017-10-01</th>\n",
              "      <td>90.473</td>\n",
              "    </tr>\n",
              "    <tr>\n",
              "      <th>2017-11-01</th>\n",
              "      <td>77.438</td>\n",
              "    </tr>\n",
              "    <tr>\n",
              "      <th>2017-12-01</th>\n",
              "      <td>75.812</td>\n",
              "    </tr>\n",
              "    <tr>\n",
              "      <th>2018-01-01</th>\n",
              "      <td>83.434</td>\n",
              "    </tr>\n",
              "    <tr>\n",
              "      <th>2018-02-01</th>\n",
              "      <td>99.490</td>\n",
              "    </tr>\n",
              "    <tr>\n",
              "      <th>2018-03-01</th>\n",
              "      <td>107.315</td>\n",
              "    </tr>\n",
              "    <tr>\n",
              "      <th>2018-04-01</th>\n",
              "      <td>112.431</td>\n",
              "    </tr>\n",
              "    <tr>\n",
              "      <th>2018-05-01</th>\n",
              "      <td>110.354</td>\n",
              "    </tr>\n",
              "    <tr>\n",
              "      <th>2018-06-01</th>\n",
              "      <td>124.584</td>\n",
              "    </tr>\n",
              "    <tr>\n",
              "      <th>2018-07-01</th>\n",
              "      <td>117.222</td>\n",
              "    </tr>\n",
              "    <tr>\n",
              "      <th>2018-08-01</th>\n",
              "      <td>112.678</td>\n",
              "    </tr>\n",
              "    <tr>\n",
              "      <th>2018-09-01</th>\n",
              "      <td>103.312</td>\n",
              "    </tr>\n",
              "    <tr>\n",
              "      <th>2018-10-01</th>\n",
              "      <td>92.132</td>\n",
              "    </tr>\n",
              "    <tr>\n",
              "      <th>2018-11-01</th>\n",
              "      <td>82.435</td>\n",
              "    </tr>\n",
              "    <tr>\n",
              "      <th>2018-12-01</th>\n",
              "      <td>76.761</td>\n",
              "    </tr>\n",
              "    <tr>\n",
              "      <th>2019-01-01</th>\n",
              "      <td>86.999</td>\n",
              "    </tr>\n",
              "    <tr>\n",
              "      <th>2019-02-01</th>\n",
              "      <td>98.112</td>\n",
              "    </tr>\n",
              "    <tr>\n",
              "      <th>2019-03-01</th>\n",
              "      <td>116.172</td>\n",
              "    </tr>\n",
              "    <tr>\n",
              "      <th>2019-04-01</th>\n",
              "      <td>114.970</td>\n",
              "    </tr>\n",
              "    <tr>\n",
              "      <th>2019-05-01</th>\n",
              "      <td>114.561</td>\n",
              "    </tr>\n",
              "    <tr>\n",
              "      <th>2019-06-01</th>\n",
              "      <td>124.960</td>\n",
              "    </tr>\n",
              "    <tr>\n",
              "      <th>2019-07-01</th>\n",
              "      <td>110.263</td>\n",
              "    </tr>\n",
              "    <tr>\n",
              "      <th>2019-08-01</th>\n",
              "      <td>102.609</td>\n",
              "    </tr>\n",
              "    <tr>\n",
              "      <th>2019-09-01</th>\n",
              "      <td>101.587</td>\n",
              "    </tr>\n",
              "  </tbody>\n",
              "</table>\n",
              "</div>"
            ],
            "text/plain": [
              "            Production\n",
              "DATE                  \n",
              "2014-10-01      91.261\n",
              "2014-11-01      86.572\n",
              "2014-12-01      75.375\n",
              "2015-01-01      85.577\n",
              "2015-02-01     100.558\n",
              "2015-03-01     109.579\n",
              "2015-04-01     108.362\n",
              "2015-05-01     106.058\n",
              "2015-06-01     116.138\n",
              "2015-07-01     108.378\n",
              "2015-08-01     112.205\n",
              "2015-09-01     100.348\n",
              "2015-10-01      93.932\n",
              "2015-11-01      85.864\n",
              "2015-12-01      76.975\n",
              "2016-01-01      92.811\n",
              "2016-02-01     101.974\n",
              "2016-03-01     116.179\n",
              "2016-04-01     124.211\n",
              "2016-05-01     121.543\n",
              "2016-06-01     132.987\n",
              "2016-07-01     124.851\n",
              "2016-08-01     121.332\n",
              "2016-09-01     108.036\n",
              "2016-10-01     101.384\n",
              "2016-11-01      86.665\n",
              "2016-12-01      81.257\n",
              "2017-01-01      94.245\n",
              "2017-02-01     112.388\n",
              "2017-03-01     119.698\n",
              "2017-04-01     123.228\n",
              "2017-05-01     116.064\n",
              "2017-06-01     123.087\n",
              "2017-07-01     116.264\n",
              "2017-08-01     113.172\n",
              "2017-09-01      97.912\n",
              "2017-10-01      90.473\n",
              "2017-11-01      77.438\n",
              "2017-12-01      75.812\n",
              "2018-01-01      83.434\n",
              "2018-02-01      99.490\n",
              "2018-03-01     107.315\n",
              "2018-04-01     112.431\n",
              "2018-05-01     110.354\n",
              "2018-06-01     124.584\n",
              "2018-07-01     117.222\n",
              "2018-08-01     112.678\n",
              "2018-09-01     103.312\n",
              "2018-10-01      92.132\n",
              "2018-11-01      82.435\n",
              "2018-12-01      76.761\n",
              "2019-01-01      86.999\n",
              "2019-02-01      98.112\n",
              "2019-03-01     116.172\n",
              "2019-04-01     114.970\n",
              "2019-05-01     114.561\n",
              "2019-06-01     124.960\n",
              "2019-07-01     110.263\n",
              "2019-08-01     102.609\n",
              "2019-09-01     101.587"
            ]
          },
          "execution_count": 14,
          "metadata": {},
          "output_type": "execute_result"
        }
      ],
      "source": [
        "df.tail(60)"
      ]
    },
    {
      "cell_type": "code",
      "execution_count": 15,
      "metadata": {},
      "outputs": [
        {
          "data": {
            "image/png": "[encoded data removed]",
            "text/plain": [
              "<Figure size 1152x576 with 1 Axes>"
            ]
          },
          "metadata": {},
          "output_type": "display_data"
        }
      ],
      "source": [
        "df.plot(figsize=(16,8));"
      ]
    },
    {
      "cell_type": "markdown",
      "metadata": {
        "id": "MFgtEy1_W0UT"
      },
      "source": [
        "## Preprocessing of Data"
      ]
    },
    {
      "cell_type": "markdown",
      "metadata": {
        "id": "ZHTMB-NaW0UU"
      },
      "source": [
        "### Train Test Split"
      ]
    },
    {
      "cell_type": "code",
      "execution_count": 16,
      "metadata": {
        "id": "Zj1tmZDUW0UW"
      },
      "outputs": [
        {
          "data": {
            "text/plain": [
              "573"
            ]
          },
          "execution_count": 16,
          "metadata": {},
          "output_type": "execute_result"
        }
      ],
      "source": [
        "len(df)"
      ]
    },
    {
      "cell_type": "code",
      "execution_count": 17,
      "metadata": {},
      "outputs": [],
      "source": [
        "test_size = 60"
      ]
    },
    {
      "cell_type": "code",
      "execution_count": 18,
      "metadata": {},
      "outputs": [
        {
          "data": {
            "text/plain": [
              "513"
            ]
          },
          "execution_count": 18,
          "metadata": {},
          "output_type": "execute_result"
        }
      ],
      "source": [
        "test_ind = len(df)- test_size\n",
        "test_ind"
      ]
    },
    {
      "cell_type": "code",
      "execution_count": 19,
      "metadata": {},
      "outputs": [],
      "source": [
        "train = df.iloc[:test_ind]\n",
        "test = df.iloc[test_ind:]"
      ]
    },
    {
      "cell_type": "code",
      "execution_count": 20,
      "metadata": {},
      "outputs": [
        {
          "data": {
            "text/html": [
              "<div>\n",
              "<style scoped>\n",
              "    .dataframe tbody tr th:only-of-type {\n",
              "        vertical-align: middle;\n",
              "    }\n",
              "\n",
              "    .dataframe tbody tr th {\n",
              "        vertical-align: top;\n",
              "    }\n",
              "\n",
              "    .dataframe thead th {\n",
              "        text-align: right;\n",
              "    }\n",
              "</style>\n",
              "<table border=\"1\" class=\"dataframe\">\n",
              "  <thead>\n",
              "    <tr style=\"text-align: right;\">\n",
              "      <th></th>\n",
              "      <th>Production</th>\n",
              "    </tr>\n",
              "    <tr>\n",
              "      <th>DATE</th>\n",
              "      <th></th>\n",
              "    </tr>\n",
              "  </thead>\n",
              "  <tbody>\n",
              "    <tr>\n",
              "      <th>1972-01-01</th>\n",
              "      <td>59.962</td>\n",
              "    </tr>\n",
              "    <tr>\n",
              "      <th>1972-02-01</th>\n",
              "      <td>67.061</td>\n",
              "    </tr>\n",
              "    <tr>\n",
              "      <th>1972-03-01</th>\n",
              "      <td>74.235</td>\n",
              "    </tr>\n",
              "    <tr>\n",
              "      <th>1972-04-01</th>\n",
              "      <td>78.112</td>\n",
              "    </tr>\n",
              "    <tr>\n",
              "      <th>1972-05-01</th>\n",
              "      <td>84.764</td>\n",
              "    </tr>\n",
              "    <tr>\n",
              "      <th>...</th>\n",
              "      <td>...</td>\n",
              "    </tr>\n",
              "    <tr>\n",
              "      <th>2014-05-01</th>\n",
              "      <td>116.631</td>\n",
              "    </tr>\n",
              "    <tr>\n",
              "      <th>2014-06-01</th>\n",
              "      <td>131.040</td>\n",
              "    </tr>\n",
              "    <tr>\n",
              "      <th>2014-07-01</th>\n",
              "      <td>117.272</td>\n",
              "    </tr>\n",
              "    <tr>\n",
              "      <th>2014-08-01</th>\n",
              "      <td>111.418</td>\n",
              "    </tr>\n",
              "    <tr>\n",
              "      <th>2014-09-01</th>\n",
              "      <td>100.617</td>\n",
              "    </tr>\n",
              "  </tbody>\n",
              "</table>\n",
              "<p>513 rows × 1 columns</p>\n",
              "</div>"
            ],
            "text/plain": [
              "            Production\n",
              "DATE                  \n",
              "1972-01-01      59.962\n",
              "1972-02-01      67.061\n",
              "1972-03-01      74.235\n",
              "1972-04-01      78.112\n",
              "1972-05-01      84.764\n",
              "...                ...\n",
              "2014-05-01     116.631\n",
              "2014-06-01     131.040\n",
              "2014-07-01     117.272\n",
              "2014-08-01     111.418\n",
              "2014-09-01     100.617\n",
              "\n",
              "[513 rows x 1 columns]"
            ]
          },
          "execution_count": 20,
          "metadata": {},
          "output_type": "execute_result"
        }
      ],
      "source": [
        "train"
      ]
    },
    {
      "cell_type": "code",
      "execution_count": 21,
      "metadata": {},
      "outputs": [
        {
          "data": {
            "text/html": [
              "<div>\n",
              "<style scoped>\n",
              "    .dataframe tbody tr th:only-of-type {\n",
              "        vertical-align: middle;\n",
              "    }\n",
              "\n",
              "    .dataframe tbody tr th {\n",
              "        vertical-align: top;\n",
              "    }\n",
              "\n",
              "    .dataframe thead th {\n",
              "        text-align: right;\n",
              "    }\n",
              "</style>\n",
              "<table border=\"1\" class=\"dataframe\">\n",
              "  <thead>\n",
              "    <tr style=\"text-align: right;\">\n",
              "      <th></th>\n",
              "      <th>Production</th>\n",
              "    </tr>\n",
              "    <tr>\n",
              "      <th>DATE</th>\n",
              "      <th></th>\n",
              "    </tr>\n",
              "  </thead>\n",
              "  <tbody>\n",
              "    <tr>\n",
              "      <th>2014-10-01</th>\n",
              "      <td>91.261</td>\n",
              "    </tr>\n",
              "    <tr>\n",
              "      <th>2014-11-01</th>\n",
              "      <td>86.572</td>\n",
              "    </tr>\n",
              "    <tr>\n",
              "      <th>2014-12-01</th>\n",
              "      <td>75.375</td>\n",
              "    </tr>\n",
              "    <tr>\n",
              "      <th>2015-01-01</th>\n",
              "      <td>85.577</td>\n",
              "    </tr>\n",
              "    <tr>\n",
              "      <th>2015-02-01</th>\n",
              "      <td>100.558</td>\n",
              "    </tr>\n",
              "    <tr>\n",
              "      <th>2015-03-01</th>\n",
              "      <td>109.579</td>\n",
              "    </tr>\n",
              "    <tr>\n",
              "      <th>2015-04-01</th>\n",
              "      <td>108.362</td>\n",
              "    </tr>\n",
              "    <tr>\n",
              "      <th>2015-05-01</th>\n",
              "      <td>106.058</td>\n",
              "    </tr>\n",
              "    <tr>\n",
              "      <th>2015-06-01</th>\n",
              "      <td>116.138</td>\n",
              "    </tr>\n",
              "    <tr>\n",
              "      <th>2015-07-01</th>\n",
              "      <td>108.378</td>\n",
              "    </tr>\n",
              "    <tr>\n",
              "      <th>2015-08-01</th>\n",
              "      <td>112.205</td>\n",
              "    </tr>\n",
              "    <tr>\n",
              "      <th>2015-09-01</th>\n",
              "      <td>100.348</td>\n",
              "    </tr>\n",
              "    <tr>\n",
              "      <th>2015-10-01</th>\n",
              "      <td>93.932</td>\n",
              "    </tr>\n",
              "    <tr>\n",
              "      <th>2015-11-01</th>\n",
              "      <td>85.864</td>\n",
              "    </tr>\n",
              "    <tr>\n",
              "      <th>2015-12-01</th>\n",
              "      <td>76.975</td>\n",
              "    </tr>\n",
              "    <tr>\n",
              "      <th>2016-01-01</th>\n",
              "      <td>92.811</td>\n",
              "    </tr>\n",
              "    <tr>\n",
              "      <th>2016-02-01</th>\n",
              "      <td>101.974</td>\n",
              "    </tr>\n",
              "    <tr>\n",
              "      <th>2016-03-01</th>\n",
              "      <td>116.179</td>\n",
              "    </tr>\n",
              "    <tr>\n",
              "      <th>2016-04-01</th>\n",
              "      <td>124.211</td>\n",
              "    </tr>\n",
              "    <tr>\n",
              "      <th>2016-05-01</th>\n",
              "      <td>121.543</td>\n",
              "    </tr>\n",
              "    <tr>\n",
              "      <th>2016-06-01</th>\n",
              "      <td>132.987</td>\n",
              "    </tr>\n",
              "    <tr>\n",
              "      <th>2016-07-01</th>\n",
              "      <td>124.851</td>\n",
              "    </tr>\n",
              "    <tr>\n",
              "      <th>2016-08-01</th>\n",
              "      <td>121.332</td>\n",
              "    </tr>\n",
              "    <tr>\n",
              "      <th>2016-09-01</th>\n",
              "      <td>108.036</td>\n",
              "    </tr>\n",
              "    <tr>\n",
              "      <th>2016-10-01</th>\n",
              "      <td>101.384</td>\n",
              "    </tr>\n",
              "    <tr>\n",
              "      <th>2016-11-01</th>\n",
              "      <td>86.665</td>\n",
              "    </tr>\n",
              "    <tr>\n",
              "      <th>2016-12-01</th>\n",
              "      <td>81.257</td>\n",
              "    </tr>\n",
              "    <tr>\n",
              "      <th>2017-01-01</th>\n",
              "      <td>94.245</td>\n",
              "    </tr>\n",
              "    <tr>\n",
              "      <th>2017-02-01</th>\n",
              "      <td>112.388</td>\n",
              "    </tr>\n",
              "    <tr>\n",
              "      <th>2017-03-01</th>\n",
              "      <td>119.698</td>\n",
              "    </tr>\n",
              "    <tr>\n",
              "      <th>2017-04-01</th>\n",
              "      <td>123.228</td>\n",
              "    </tr>\n",
              "    <tr>\n",
              "      <th>2017-05-01</th>\n",
              "      <td>116.064</td>\n",
              "    </tr>\n",
              "    <tr>\n",
              "      <th>2017-06-01</th>\n",
              "      <td>123.087</td>\n",
              "    </tr>\n",
              "    <tr>\n",
              "      <th>2017-07-01</th>\n",
              "      <td>116.264</td>\n",
              "    </tr>\n",
              "    <tr>\n",
              "      <th>2017-08-01</th>\n",
              "      <td>113.172</td>\n",
              "    </tr>\n",
              "    <tr>\n",
              "      <th>2017-09-01</th>\n",
              "      <td>97.912</td>\n",
              "    </tr>\n",
              "    <tr>\n",
              "      <th>2017-10-01</th>\n",
              "      <td>90.473</td>\n",
              "    </tr>\n",
              "    <tr>\n",
              "      <th>2017-11-01</th>\n",
              "      <td>77.438</td>\n",
              "    </tr>\n",
              "    <tr>\n",
              "      <th>2017-12-01</th>\n",
              "      <td>75.812</td>\n",
              "    </tr>\n",
              "    <tr>\n",
              "      <th>2018-01-01</th>\n",
              "      <td>83.434</td>\n",
              "    </tr>\n",
              "    <tr>\n",
              "      <th>2018-02-01</th>\n",
              "      <td>99.490</td>\n",
              "    </tr>\n",
              "    <tr>\n",
              "      <th>2018-03-01</th>\n",
              "      <td>107.315</td>\n",
              "    </tr>\n",
              "    <tr>\n",
              "      <th>2018-04-01</th>\n",
              "      <td>112.431</td>\n",
              "    </tr>\n",
              "    <tr>\n",
              "      <th>2018-05-01</th>\n",
              "      <td>110.354</td>\n",
              "    </tr>\n",
              "    <tr>\n",
              "      <th>2018-06-01</th>\n",
              "      <td>124.584</td>\n",
              "    </tr>\n",
              "    <tr>\n",
              "      <th>2018-07-01</th>\n",
              "      <td>117.222</td>\n",
              "    </tr>\n",
              "    <tr>\n",
              "      <th>2018-08-01</th>\n",
              "      <td>112.678</td>\n",
              "    </tr>\n",
              "    <tr>\n",
              "      <th>2018-09-01</th>\n",
              "      <td>103.312</td>\n",
              "    </tr>\n",
              "    <tr>\n",
              "      <th>2018-10-01</th>\n",
              "      <td>92.132</td>\n",
              "    </tr>\n",
              "    <tr>\n",
              "      <th>2018-11-01</th>\n",
              "      <td>82.435</td>\n",
              "    </tr>\n",
              "    <tr>\n",
              "      <th>2018-12-01</th>\n",
              "      <td>76.761</td>\n",
              "    </tr>\n",
              "    <tr>\n",
              "      <th>2019-01-01</th>\n",
              "      <td>86.999</td>\n",
              "    </tr>\n",
              "    <tr>\n",
              "      <th>2019-02-01</th>\n",
              "      <td>98.112</td>\n",
              "    </tr>\n",
              "    <tr>\n",
              "      <th>2019-03-01</th>\n",
              "      <td>116.172</td>\n",
              "    </tr>\n",
              "    <tr>\n",
              "      <th>2019-04-01</th>\n",
              "      <td>114.970</td>\n",
              "    </tr>\n",
              "    <tr>\n",
              "      <th>2019-05-01</th>\n",
              "      <td>114.561</td>\n",
              "    </tr>\n",
              "    <tr>\n",
              "      <th>2019-06-01</th>\n",
              "      <td>124.960</td>\n",
              "    </tr>\n",
              "    <tr>\n",
              "      <th>2019-07-01</th>\n",
              "      <td>110.263</td>\n",
              "    </tr>\n",
              "    <tr>\n",
              "      <th>2019-08-01</th>\n",
              "      <td>102.609</td>\n",
              "    </tr>\n",
              "    <tr>\n",
              "      <th>2019-09-01</th>\n",
              "      <td>101.587</td>\n",
              "    </tr>\n",
              "  </tbody>\n",
              "</table>\n",
              "</div>"
            ],
            "text/plain": [
              "            Production\n",
              "DATE                  \n",
              "2014-10-01      91.261\n",
              "2014-11-01      86.572\n",
              "2014-12-01      75.375\n",
              "2015-01-01      85.577\n",
              "2015-02-01     100.558\n",
              "2015-03-01     109.579\n",
              "2015-04-01     108.362\n",
              "2015-05-01     106.058\n",
              "2015-06-01     116.138\n",
              "2015-07-01     108.378\n",
              "2015-08-01     112.205\n",
              "2015-09-01     100.348\n",
              "2015-10-01      93.932\n",
              "2015-11-01      85.864\n",
              "2015-12-01      76.975\n",
              "2016-01-01      92.811\n",
              "2016-02-01     101.974\n",
              "2016-03-01     116.179\n",
              "2016-04-01     124.211\n",
              "2016-05-01     121.543\n",
              "2016-06-01     132.987\n",
              "2016-07-01     124.851\n",
              "2016-08-01     121.332\n",
              "2016-09-01     108.036\n",
              "2016-10-01     101.384\n",
              "2016-11-01      86.665\n",
              "2016-12-01      81.257\n",
              "2017-01-01      94.245\n",
              "2017-02-01     112.388\n",
              "2017-03-01     119.698\n",
              "2017-04-01     123.228\n",
              "2017-05-01     116.064\n",
              "2017-06-01     123.087\n",
              "2017-07-01     116.264\n",
              "2017-08-01     113.172\n",
              "2017-09-01      97.912\n",
              "2017-10-01      90.473\n",
              "2017-11-01      77.438\n",
              "2017-12-01      75.812\n",
              "2018-01-01      83.434\n",
              "2018-02-01      99.490\n",
              "2018-03-01     107.315\n",
              "2018-04-01     112.431\n",
              "2018-05-01     110.354\n",
              "2018-06-01     124.584\n",
              "2018-07-01     117.222\n",
              "2018-08-01     112.678\n",
              "2018-09-01     103.312\n",
              "2018-10-01      92.132\n",
              "2018-11-01      82.435\n",
              "2018-12-01      76.761\n",
              "2019-01-01      86.999\n",
              "2019-02-01      98.112\n",
              "2019-03-01     116.172\n",
              "2019-04-01     114.970\n",
              "2019-05-01     114.561\n",
              "2019-06-01     124.960\n",
              "2019-07-01     110.263\n",
              "2019-08-01     102.609\n",
              "2019-09-01     101.587"
            ]
          },
          "execution_count": 21,
          "metadata": {},
          "output_type": "execute_result"
        }
      ],
      "source": [
        "test"
      ]
    },
    {
      "cell_type": "markdown",
      "metadata": {
        "id": "OhtBFsG_W0UW"
      },
      "source": [
        "### Scaling"
      ]
    },
    {
      "cell_type": "code",
      "execution_count": 22,
      "metadata": {
        "id": "xUXr6jEwW0UX"
      },
      "outputs": [],
      "source": [
        "from sklearn.preprocessing import MinMaxScaler"
      ]
    },
    {
      "cell_type": "code",
      "execution_count": 23,
      "metadata": {},
      "outputs": [],
      "source": [
        "scaler = MinMaxScaler()\n",
        "train_scaled = scaler.fit_transform(train)\n",
        "test_scaled = scaler.transform(test)"
      ]
    },
    {
      "cell_type": "markdown",
      "metadata": {
        "id": "mEr60eqqW0UX"
      },
      "source": [
        "## Time Series Generator"
      ]
    },
    {
      "cell_type": "code",
      "execution_count": 24,
      "metadata": {
        "id": "W7m1f77QW0UY"
      },
      "outputs": [],
      "source": [
        "from tensorflow import keras \n",
        "from keras import preprocessing  \n",
        "from tensorflow.keras.preprocessing import sequence\n",
        "from tensorflow.keras.preprocessing.sequence import TimeseriesGenerator"
      ]
    },
    {
      "cell_type": "code",
      "execution_count": 25,
      "metadata": {},
      "outputs": [],
      "source": [
        "length = 48\n",
        "batch_size = 1\n",
        "generator = TimeseriesGenerator(train_scaled, train_scaled, length = length, batch_size = batch_size)"
      ]
    },
    {
      "cell_type": "code",
      "execution_count": 26,
      "metadata": {},
      "outputs": [
        {
          "data": {
            "text/plain": [
              "465"
            ]
          },
          "execution_count": 26,
          "metadata": {},
          "output_type": "execute_result"
        }
      ],
      "source": [
        "len(generator)"
      ]
    },
    {
      "cell_type": "code",
      "execution_count": 27,
      "metadata": {},
      "outputs": [
        {
          "data": {
            "text/plain": [
              "(array([[[0.00947104],\n",
              "         [0.06108982],\n",
              "         [0.11326273],\n",
              "         [0.14145625],\n",
              "         [0.18982663],\n",
              "         [0.30495972],\n",
              "         [0.30154406],\n",
              "         [0.27416065],\n",
              "         [0.19736841],\n",
              "         [0.08532665],\n",
              "         [0.01561588],\n",
              "         [0.        ],\n",
              "         [0.01774221],\n",
              "         [0.09850931],\n",
              "         [0.15590133],\n",
              "         [0.18358944],\n",
              "         [0.20878908],\n",
              "         [0.37150354],\n",
              "         [0.3542551 ],\n",
              "         [0.29817568],\n",
              "         [0.23973867],\n",
              "         [0.12104304],\n",
              "         [0.05289938],\n",
              "         [0.02087498],\n",
              "         [0.03141355],\n",
              "         [0.12133246],\n",
              "         [0.18622481],\n",
              "         [0.18855185],\n",
              "         [0.23182893],\n",
              "         [0.37263651],\n",
              "         [0.32891584],\n",
              "         [0.30809031],\n",
              "         [0.22409662],\n",
              "         [0.10933731],\n",
              "         [0.05452176],\n",
              "         [0.01749278],\n",
              "         [0.04076752],\n",
              "         [0.12186114],\n",
              "         [0.19277469],\n",
              "         [0.19221257],\n",
              "         [0.28139264],\n",
              "         [0.39898221],\n",
              "         [0.35985962],\n",
              "         [0.3357137 ],\n",
              "         [0.22874706],\n",
              "         [0.12405219],\n",
              "         [0.08404241],\n",
              "         [0.02969736]]]),\n",
              " array([[0.02386668]]))"
            ]
          },
          "execution_count": 27,
          "metadata": {},
          "output_type": "execute_result"
        }
      ],
      "source": [
        "generator[0]"
      ]
    },
    {
      "cell_type": "code",
      "execution_count": 28,
      "metadata": {},
      "outputs": [],
      "source": [
        "X, y = generator[0]"
      ]
    },
    {
      "cell_type": "code",
      "execution_count": 29,
      "metadata": {},
      "outputs": [
        {
          "name": "stdout",
          "output_type": "stream",
          "text": [
            "Given the Array: \n",
            "[0.00947104 0.06108982 0.11326273 0.14145625 0.18982663 0.30495972\n",
            " 0.30154406 0.27416065 0.19736841 0.08532665 0.01561588 0.\n",
            " 0.01774221 0.09850931 0.15590133 0.18358944 0.20878908 0.37150354\n",
            " 0.3542551  0.29817568 0.23973867 0.12104304 0.05289938 0.02087498\n",
            " 0.03141355 0.12133246 0.18622481 0.18855185 0.23182893 0.37263651\n",
            " 0.32891584 0.30809031 0.22409662 0.10933731 0.05452176 0.01749278\n",
            " 0.04076752 0.12186114 0.19277469 0.19221257 0.28139264 0.39898221\n",
            " 0.35985962 0.3357137  0.22874706 0.12405219 0.08404241 0.02969736]\n",
            "Predict this y: \n",
            " [[0.02386668]]\n"
          ]
        }
      ],
      "source": [
        "print(f'Given the Array: \\n{X.flatten()}')\n",
        "print(f'Predict this y: \\n {y}')"
      ]
    },
    {
      "cell_type": "markdown",
      "metadata": {
        "id": "GXs_mchzW0UY"
      },
      "source": [
        "## Modelling & Model Performance"
      ]
    },
    {
      "cell_type": "markdown",
      "metadata": {
        "id": "_nPVqM5JW0UY"
      },
      "source": [
        "### Import related libraries"
      ]
    },
    {
      "cell_type": "code",
      "execution_count": 30,
      "metadata": {
        "id": "H0LrCgXjW0UZ"
      },
      "outputs": [],
      "source": [
        "from tensorflow.keras.models import Sequential\n",
        "from tensorflow.keras.layers import Dense, LSTM\n",
        "from tensorflow.keras.callbacks import EarlyStopping"
      ]
    },
    {
      "cell_type": "code",
      "execution_count": 31,
      "metadata": {},
      "outputs": [
        {
          "data": {
            "text/plain": [
              "(513, 1)"
            ]
          },
          "execution_count": 31,
          "metadata": {},
          "output_type": "execute_result"
        }
      ],
      "source": [
        "train_scaled.shape"
      ]
    },
    {
      "cell_type": "code",
      "execution_count": 32,
      "metadata": {},
      "outputs": [],
      "source": [
        "n_features = train_scaled.shape[1]"
      ]
    },
    {
      "cell_type": "code",
      "execution_count": 33,
      "metadata": {},
      "outputs": [],
      "source": [
        "from tensorflow import keras\n",
        "from keras import optimizers\n",
        "optimizer=keras.optimizers.Adam(learning_rate=0.003)"
      ]
    },
    {
      "cell_type": "code",
      "execution_count": 53,
      "metadata": {},
      "outputs": [],
      "source": [
        "model = Sequential()\n",
        "model.add(LSTM(100, activation = 'tanh', return_sequences=True, input_shape = (length, n_features))) # return_sequences=True 2 tane RNN ard arda göndereceksem bunu true yap\n",
        "model.add(LSTM(50, activation = 'tanh'))\n",
        "model.add(Dense(1))\n",
        "model.compile(optimizer = optimizer, loss = 'mse')"
      ]
    },
    {
      "cell_type": "code",
      "execution_count": 54,
      "metadata": {},
      "outputs": [
        {
          "name": "stdout",
          "output_type": "stream",
          "text": [
            "Model: \"sequential_1\"\n",
            "_________________________________________________________________\n",
            " Layer (type)                Output Shape              Param #   \n",
            "=================================================================\n",
            " lstm_2 (LSTM)               (None, 48, 100)           40800     \n",
            "                                                                 \n",
            " lstm_3 (LSTM)               (None, 50)                30200     \n",
            "                                                                 \n",
            " dense_1 (Dense)             (None, 1)                 51        \n",
            "                                                                 \n",
            "=================================================================\n",
            "Total params: 71,051\n",
            "Trainable params: 71,051\n",
            "Non-trainable params: 0\n",
            "_________________________________________________________________\n"
          ]
        }
      ],
      "source": [
        "model.summary()"
      ]
    },
    {
      "cell_type": "code",
      "execution_count": 55,
      "metadata": {},
      "outputs": [],
      "source": [
        "early_stop = EarlyStopping(monitor = 'val_loss', patience = 5,restore_best_weights=True)"
      ]
    },
    {
      "cell_type": "code",
      "execution_count": 56,
      "metadata": {},
      "outputs": [],
      "source": [
        "validation_generator = TimeseriesGenerator(test_scaled, test_scaled, length = length, batch_size = batch_size)"
      ]
    },
    {
      "cell_type": "code",
      "execution_count": 57,
      "metadata": {},
      "outputs": [
        {
          "name": "stdout",
          "output_type": "stream",
          "text": [
            "Epoch 1/20\n",
            "465/465 [==============================] - 16s 27ms/step - loss: 0.0276 - val_loss: 0.0025\n",
            "Epoch 2/20\n",
            "465/465 [==============================] - 12s 26ms/step - loss: 0.0051 - val_loss: 0.0031\n",
            "Epoch 3/20\n",
            "465/465 [==============================] - 13s 29ms/step - loss: 0.0040 - val_loss: 0.0022\n",
            "Epoch 4/20\n",
            "465/465 [==============================] - 15s 33ms/step - loss: 0.0037 - val_loss: 0.0129\n",
            "Epoch 5/20\n",
            "465/465 [==============================] - 14s 29ms/step - loss: 0.0049 - val_loss: 0.0023\n",
            "Epoch 6/20\n",
            "465/465 [==============================] - 14s 29ms/step - loss: 0.0035 - val_loss: 0.0022\n",
            "Epoch 7/20\n",
            "465/465 [==============================] - 14s 30ms/step - loss: 0.0033 - val_loss: 0.0029\n",
            "Epoch 8/20\n",
            "465/465 [==============================] - 15s 32ms/step - loss: 0.0034 - val_loss: 0.0061\n",
            "Epoch 9/20\n",
            "465/465 [==============================] - 15s 31ms/step - loss: 0.0032 - val_loss: 0.0027\n",
            "Epoch 10/20\n",
            "465/465 [==============================] - 14s 31ms/step - loss: 0.0036 - val_loss: 0.0045\n",
            "Epoch 11/20\n",
            "465/465 [==============================] - 14s 30ms/step - loss: 0.0031 - val_loss: 0.0027\n"
          ]
        },
        {
          "data": {
            "text/plain": [
              "<keras.callbacks.History at 0x23d75b4c8e0>"
            ]
          },
          "execution_count": 57,
          "metadata": {},
          "output_type": "execute_result"
        }
      ],
      "source": [
        "model.fit_generator(generator,\n",
        "                    epochs = 20,\n",
        "                    validation_data = validation_generator,\n",
        "                    callbacks = [early_stop])"
      ]
    },
    {
      "cell_type": "code",
      "execution_count": 58,
      "metadata": {},
      "outputs": [
        {
          "data": {
            "text/plain": [
              "<AxesSubplot:>"
            ]
          },
          "execution_count": 58,
          "metadata": {},
          "output_type": "execute_result"
        },
        {
          "data": {
            "image/png": "[encoded data removed]",
            "text/plain": [
              "<Figure size 720x432 with 1 Axes>"
            ]
          },
          "metadata": {},
          "output_type": "display_data"
        }
      ],
      "source": [
        "loss_df = pd.DataFrame(model.history.history)\n",
        "loss_df.plot()"
      ]
    },
    {
      "cell_type": "markdown",
      "metadata": {
        "id": "oa_VzNmpW0Ua"
      },
      "source": [
        "#### Evaluate on Test Data"
      ]
    },
    {
      "cell_type": "code",
      "execution_count": 59,
      "metadata": {
        "id": "Bhvrnix7W0Ub"
      },
      "outputs": [],
      "source": [
        "from sklearn.metrics import mean_absolute_error, mean_squared_error, r2_score"
      ]
    },
    {
      "cell_type": "code",
      "execution_count": 60,
      "metadata": {},
      "outputs": [],
      "source": [
        "def eval_metrics(actual, pred):\n",
        "    rmse = np.sqrt(mean_squared_error(actual, pred))\n",
        "    mae = mean_absolute_error(actual, pred)\n",
        "    mse = mean_squared_error(actual, pred)\n",
        "    score = r2_score(actual, pred)\n",
        "    return print(\"r2_score:\", score, \"\\nmae:\", mae, \"\\nmse:\",mse, \"\\nrmse:\",rmse)"
      ]
    },
    {
      "cell_type": "code",
      "execution_count": 61,
      "metadata": {},
      "outputs": [],
      "source": [
        "predictions_scaled = []\n",
        "\n",
        "first_eval_batch = train_scaled[-length:]\n",
        "current_batch = first_eval_batch.reshape((1, length, n_features))\n",
        "\n",
        "for i in range(length):\n",
        "    \n",
        "    # get prediction 1 time stamp ahead\n",
        "    current_pred = model.predict(current_batch)\n",
        "    \n",
        "    # store prediction\n",
        "    predictions_scaled.append(current_pred[0]) \n",
        "    \n",
        "    # update batch to now include prediction and drop first value\n",
        "    current_batch = np.append(current_batch[:, 1:, :], [current_pred], axis=1)"
      ]
    },
    {
      "cell_type": "code",
      "execution_count": 62,
      "metadata": {},
      "outputs": [
        {
          "data": {
            "text/plain": [
              "[array([0.23048295], dtype=float32),\n",
              " array([0.18649216], dtype=float32),\n",
              " array([0.19319525], dtype=float32),\n",
              " array([0.25053632], dtype=float32),\n",
              " array([0.3211808], dtype=float32),\n",
              " array([0.3712381], dtype=float32),\n",
              " array([0.41596764], dtype=float32),\n",
              " array([0.4631486], dtype=float32),\n",
              " array([0.48703796], dtype=float32),\n",
              " array([0.4736511], dtype=float32),\n",
              " array([0.43460828], dtype=float32),\n",
              " array([0.381119], dtype=float32),\n",
              " array([0.32437205], dtype=float32),\n",
              " array([0.28002352], dtype=float32),\n",
              " array([0.26342952], dtype=float32),\n",
              " array([0.28218687], dtype=float32),\n",
              " array([0.32765657], dtype=float32),\n",
              " array([0.37817818], dtype=float32),\n",
              " array([0.4215868], dtype=float32),\n",
              " array([0.4599775], dtype=float32),\n",
              " array([0.4883213], dtype=float32),\n",
              " array([0.49487597], dtype=float32),\n",
              " array([0.47716135], dtype=float32),\n",
              " array([0.44184285], dtype=float32),\n",
              " array([0.39800835], dtype=float32),\n",
              " array([0.35682482], dtype=float32),\n",
              " array([0.33038354], dtype=float32),\n",
              " array([0.32769394], dtype=float32),\n",
              " array([0.34950656], dtype=float32),\n",
              " array([0.38613504], dtype=float32),\n",
              " array([0.42476612], dtype=float32),\n",
              " array([0.45937836], dtype=float32),\n",
              " array([0.48734182], dtype=float32),\n",
              " array([0.50255096], dtype=float32),\n",
              " array([0.49976462], dtype=float32),\n",
              " array([0.48000115], dtype=float32),\n",
              " array([0.44896197], dtype=float32),\n",
              " array([0.41465044], dtype=float32),\n",
              " array([0.38629752], dtype=float32),\n",
              " array([0.3722645], dtype=float32),\n",
              " array([0.3768587], dtype=float32),\n",
              " array([0.3977213], dtype=float32),\n",
              " array([0.42700046], dtype=float32),\n",
              " array([0.45690107], dtype=float32),\n",
              " array([0.4828773], dtype=float32),\n",
              " array([0.5010497], dtype=float32),\n",
              " array([0.5071058], dtype=float32),\n",
              " array([0.49924397], dtype=float32)]"
            ]
          },
          "execution_count": 62,
          "metadata": {},
          "output_type": "execute_result"
        }
      ],
      "source": [
        "predictions_scaled\n"
      ]
    },
    {
      "cell_type": "code",
      "execution_count": 63,
      "metadata": {},
      "outputs": [
        {
          "name": "stdout",
          "output_type": "stream",
          "text": [
            "r2_score: 0.10698431147217224 \n",
            "mae: 0.08037783640330017 \n",
            "mse: 0.010815877338353161 \n",
            "rmse: 0.10399941027887206\n"
          ]
        }
      ],
      "source": [
        "eval_metrics(test_scaled[:length], predictions_scaled)"
      ]
    },
    {
      "cell_type": "markdown",
      "metadata": {
        "id": "uiuwaoCZW0Ub"
      },
      "source": [
        "#### Inverse Transformations and Comparing"
      ]
    },
    {
      "cell_type": "code",
      "execution_count": 64,
      "metadata": {
        "id": "jCKSgQrxW0Uc"
      },
      "outputs": [],
      "source": [
        "predictions = scaler.inverse_transform(predictions_scaled)"
      ]
    },
    {
      "cell_type": "code",
      "execution_count": 65,
      "metadata": {},
      "outputs": [],
      "source": [
        "compare = test[:48]"
      ]
    },
    {
      "cell_type": "code",
      "execution_count": 66,
      "metadata": {},
      "outputs": [],
      "source": [
        "compare['Predictions'] = predictions"
      ]
    },
    {
      "cell_type": "code",
      "execution_count": 67,
      "metadata": {},
      "outputs": [
        {
          "data": {
            "text/html": [
              "<div>\n",
              "<style scoped>\n",
              "    .dataframe tbody tr th:only-of-type {\n",
              "        vertical-align: middle;\n",
              "    }\n",
              "\n",
              "    .dataframe tbody tr th {\n",
              "        vertical-align: top;\n",
              "    }\n",
              "\n",
              "    .dataframe thead th {\n",
              "        text-align: right;\n",
              "    }\n",
              "</style>\n",
              "<table border=\"1\" class=\"dataframe\">\n",
              "  <thead>\n",
              "    <tr style=\"text-align: right;\">\n",
              "      <th></th>\n",
              "      <th>Production</th>\n",
              "      <th>Predictions</th>\n",
              "    </tr>\n",
              "    <tr>\n",
              "      <th>DATE</th>\n",
              "      <th></th>\n",
              "      <th></th>\n",
              "    </tr>\n",
              "  </thead>\n",
              "  <tbody>\n",
              "    <tr>\n",
              "      <th>2014-10-01</th>\n",
              "      <td>91.261</td>\n",
              "      <td>90.354</td>\n",
              "    </tr>\n",
              "    <tr>\n",
              "      <th>2014-11-01</th>\n",
              "      <td>86.572</td>\n",
              "      <td>84.305</td>\n",
              "    </tr>\n",
              "    <tr>\n",
              "      <th>2014-12-01</th>\n",
              "      <td>75.375</td>\n",
              "      <td>85.227</td>\n",
              "    </tr>\n",
              "    <tr>\n",
              "      <th>2015-01-01</th>\n",
              "      <td>85.577</td>\n",
              "      <td>93.112</td>\n",
              "    </tr>\n",
              "    <tr>\n",
              "      <th>2015-02-01</th>\n",
              "      <td>100.558</td>\n",
              "      <td>102.827</td>\n",
              "    </tr>\n",
              "    <tr>\n",
              "      <th>2015-03-01</th>\n",
              "      <td>109.579</td>\n",
              "      <td>109.710</td>\n",
              "    </tr>\n",
              "    <tr>\n",
              "      <th>2015-04-01</th>\n",
              "      <td>108.362</td>\n",
              "      <td>115.861</td>\n",
              "    </tr>\n",
              "    <tr>\n",
              "      <th>2015-05-01</th>\n",
              "      <td>106.058</td>\n",
              "      <td>122.349</td>\n",
              "    </tr>\n",
              "    <tr>\n",
              "      <th>2015-06-01</th>\n",
              "      <td>116.138</td>\n",
              "      <td>125.634</td>\n",
              "    </tr>\n",
              "    <tr>\n",
              "      <th>2015-07-01</th>\n",
              "      <td>108.378</td>\n",
              "      <td>123.793</td>\n",
              "    </tr>\n",
              "    <tr>\n",
              "      <th>2015-08-01</th>\n",
              "      <td>112.205</td>\n",
              "      <td>118.424</td>\n",
              "    </tr>\n",
              "    <tr>\n",
              "      <th>2015-09-01</th>\n",
              "      <td>100.348</td>\n",
              "      <td>111.069</td>\n",
              "    </tr>\n",
              "    <tr>\n",
              "      <th>2015-10-01</th>\n",
              "      <td>93.932</td>\n",
              "      <td>103.265</td>\n",
              "    </tr>\n",
              "    <tr>\n",
              "      <th>2015-11-01</th>\n",
              "      <td>85.864</td>\n",
              "      <td>97.167</td>\n",
              "    </tr>\n",
              "    <tr>\n",
              "      <th>2015-12-01</th>\n",
              "      <td>76.975</td>\n",
              "      <td>94.885</td>\n",
              "    </tr>\n",
              "    <tr>\n",
              "      <th>2016-01-01</th>\n",
              "      <td>92.811</td>\n",
              "      <td>97.464</td>\n",
              "    </tr>\n",
              "    <tr>\n",
              "      <th>2016-02-01</th>\n",
              "      <td>101.974</td>\n",
              "      <td>103.717</td>\n",
              "    </tr>\n",
              "    <tr>\n",
              "      <th>2016-03-01</th>\n",
              "      <td>116.179</td>\n",
              "      <td>110.665</td>\n",
              "    </tr>\n",
              "    <tr>\n",
              "      <th>2016-04-01</th>\n",
              "      <td>124.211</td>\n",
              "      <td>116.634</td>\n",
              "    </tr>\n",
              "    <tr>\n",
              "      <th>2016-05-01</th>\n",
              "      <td>121.543</td>\n",
              "      <td>121.913</td>\n",
              "    </tr>\n",
              "    <tr>\n",
              "      <th>2016-06-01</th>\n",
              "      <td>132.987</td>\n",
              "      <td>125.811</td>\n",
              "    </tr>\n",
              "    <tr>\n",
              "      <th>2016-07-01</th>\n",
              "      <td>124.851</td>\n",
              "      <td>126.712</td>\n",
              "    </tr>\n",
              "    <tr>\n",
              "      <th>2016-08-01</th>\n",
              "      <td>121.332</td>\n",
              "      <td>124.276</td>\n",
              "    </tr>\n",
              "    <tr>\n",
              "      <th>2016-09-01</th>\n",
              "      <td>108.036</td>\n",
              "      <td>119.419</td>\n",
              "    </tr>\n",
              "    <tr>\n",
              "      <th>2016-10-01</th>\n",
              "      <td>101.384</td>\n",
              "      <td>113.391</td>\n",
              "    </tr>\n",
              "    <tr>\n",
              "      <th>2016-11-01</th>\n",
              "      <td>86.665</td>\n",
              "      <td>107.728</td>\n",
              "    </tr>\n",
              "    <tr>\n",
              "      <th>2016-12-01</th>\n",
              "      <td>81.257</td>\n",
              "      <td>104.092</td>\n",
              "    </tr>\n",
              "    <tr>\n",
              "      <th>2017-01-01</th>\n",
              "      <td>94.245</td>\n",
              "      <td>103.722</td>\n",
              "    </tr>\n",
              "    <tr>\n",
              "      <th>2017-02-01</th>\n",
              "      <td>112.388</td>\n",
              "      <td>106.722</td>\n",
              "    </tr>\n",
              "    <tr>\n",
              "      <th>2017-03-01</th>\n",
              "      <td>119.698</td>\n",
              "      <td>111.759</td>\n",
              "    </tr>\n",
              "    <tr>\n",
              "      <th>2017-04-01</th>\n",
              "      <td>123.228</td>\n",
              "      <td>117.071</td>\n",
              "    </tr>\n",
              "    <tr>\n",
              "      <th>2017-05-01</th>\n",
              "      <td>116.064</td>\n",
              "      <td>121.831</td>\n",
              "    </tr>\n",
              "    <tr>\n",
              "      <th>2017-06-01</th>\n",
              "      <td>123.087</td>\n",
              "      <td>125.676</td>\n",
              "    </tr>\n",
              "    <tr>\n",
              "      <th>2017-07-01</th>\n",
              "      <td>116.264</td>\n",
              "      <td>127.768</td>\n",
              "    </tr>\n",
              "    <tr>\n",
              "      <th>2017-08-01</th>\n",
              "      <td>113.172</td>\n",
              "      <td>127.384</td>\n",
              "    </tr>\n",
              "    <tr>\n",
              "      <th>2017-09-01</th>\n",
              "      <td>97.912</td>\n",
              "      <td>124.667</td>\n",
              "    </tr>\n",
              "    <tr>\n",
              "      <th>2017-10-01</th>\n",
              "      <td>90.473</td>\n",
              "      <td>120.398</td>\n",
              "    </tr>\n",
              "    <tr>\n",
              "      <th>2017-11-01</th>\n",
              "      <td>77.438</td>\n",
              "      <td>115.680</td>\n",
              "    </tr>\n",
              "    <tr>\n",
              "      <th>2017-12-01</th>\n",
              "      <td>75.812</td>\n",
              "      <td>111.781</td>\n",
              "    </tr>\n",
              "    <tr>\n",
              "      <th>2018-01-01</th>\n",
              "      <td>83.434</td>\n",
              "      <td>109.851</td>\n",
              "    </tr>\n",
              "    <tr>\n",
              "      <th>2018-02-01</th>\n",
              "      <td>99.490</td>\n",
              "      <td>110.483</td>\n",
              "    </tr>\n",
              "    <tr>\n",
              "      <th>2018-03-01</th>\n",
              "      <td>107.315</td>\n",
              "      <td>113.352</td>\n",
              "    </tr>\n",
              "    <tr>\n",
              "      <th>2018-04-01</th>\n",
              "      <td>112.431</td>\n",
              "      <td>117.378</td>\n",
              "    </tr>\n",
              "    <tr>\n",
              "      <th>2018-05-01</th>\n",
              "      <td>110.354</td>\n",
              "      <td>121.490</td>\n",
              "    </tr>\n",
              "    <tr>\n",
              "      <th>2018-06-01</th>\n",
              "      <td>124.584</td>\n",
              "      <td>125.062</td>\n",
              "    </tr>\n",
              "    <tr>\n",
              "      <th>2018-07-01</th>\n",
              "      <td>117.222</td>\n",
              "      <td>127.561</td>\n",
              "    </tr>\n",
              "    <tr>\n",
              "      <th>2018-08-01</th>\n",
              "      <td>112.678</td>\n",
              "      <td>128.394</td>\n",
              "    </tr>\n",
              "    <tr>\n",
              "      <th>2018-09-01</th>\n",
              "      <td>103.312</td>\n",
              "      <td>127.313</td>\n",
              "    </tr>\n",
              "  </tbody>\n",
              "</table>\n",
              "</div>"
            ],
            "text/plain": [
              "            Production  Predictions\n",
              "DATE                               \n",
              "2014-10-01      91.261       90.354\n",
              "2014-11-01      86.572       84.305\n",
              "2014-12-01      75.375       85.227\n",
              "2015-01-01      85.577       93.112\n",
              "2015-02-01     100.558      102.827\n",
              "2015-03-01     109.579      109.710\n",
              "2015-04-01     108.362      115.861\n",
              "2015-05-01     106.058      122.349\n",
              "2015-06-01     116.138      125.634\n",
              "2015-07-01     108.378      123.793\n",
              "2015-08-01     112.205      118.424\n",
              "2015-09-01     100.348      111.069\n",
              "2015-10-01      93.932      103.265\n",
              "2015-11-01      85.864       97.167\n",
              "2015-12-01      76.975       94.885\n",
              "2016-01-01      92.811       97.464\n",
              "2016-02-01     101.974      103.717\n",
              "2016-03-01     116.179      110.665\n",
              "2016-04-01     124.211      116.634\n",
              "2016-05-01     121.543      121.913\n",
              "2016-06-01     132.987      125.811\n",
              "2016-07-01     124.851      126.712\n",
              "2016-08-01     121.332      124.276\n",
              "2016-09-01     108.036      119.419\n",
              "2016-10-01     101.384      113.391\n",
              "2016-11-01      86.665      107.728\n",
              "2016-12-01      81.257      104.092\n",
              "2017-01-01      94.245      103.722\n",
              "2017-02-01     112.388      106.722\n",
              "2017-03-01     119.698      111.759\n",
              "2017-04-01     123.228      117.071\n",
              "2017-05-01     116.064      121.831\n",
              "2017-06-01     123.087      125.676\n",
              "2017-07-01     116.264      127.768\n",
              "2017-08-01     113.172      127.384\n",
              "2017-09-01      97.912      124.667\n",
              "2017-10-01      90.473      120.398\n",
              "2017-11-01      77.438      115.680\n",
              "2017-12-01      75.812      111.781\n",
              "2018-01-01      83.434      109.851\n",
              "2018-02-01      99.490      110.483\n",
              "2018-03-01     107.315      113.352\n",
              "2018-04-01     112.431      117.378\n",
              "2018-05-01     110.354      121.490\n",
              "2018-06-01     124.584      125.062\n",
              "2018-07-01     117.222      127.561\n",
              "2018-08-01     112.678      128.394\n",
              "2018-09-01     103.312      127.313"
            ]
          },
          "execution_count": 67,
          "metadata": {},
          "output_type": "execute_result"
        }
      ],
      "source": [
        "compare"
      ]
    },
    {
      "cell_type": "code",
      "execution_count": 68,
      "metadata": {},
      "outputs": [
        {
          "data": {
            "text/plain": [
              "<AxesSubplot:xlabel='DATE'>"
            ]
          },
          "execution_count": 68,
          "metadata": {},
          "output_type": "execute_result"
        },
        {
          "data": {
            "image/png": "[encoded data removed]",
            "text/plain": [
              "<Figure size 720x432 with 1 Axes>"
            ]
          },
          "metadata": {},
          "output_type": "display_data"
        }
      ],
      "source": [
        "compare.plot()"
      ]
    },
    {
      "cell_type": "markdown",
      "metadata": {
        "id": "8LWk7fR2W0Uc"
      },
      "source": [
        "#### Calculation R2 Score and Error Metrics"
      ]
    },
    {
      "cell_type": "code",
      "execution_count": 69,
      "metadata": {
        "id": "6NL6kGVpW0Uc"
      },
      "outputs": [
        {
          "name": "stdout",
          "output_type": "stream",
          "text": [
            "r2_score: 0.10698431147217302 \n",
            "mae: 11.053069757379774 \n",
            "mse: 204.5290267091009 \n",
            "rmse: 14.301364505147783\n"
          ]
        }
      ],
      "source": [
        "eval_metrics(compare.Production, compare.Predictions)"
      ]
    },
    {
      "cell_type": "markdown",
      "metadata": {
        "id": "AeWZTdyPW0Ud"
      },
      "source": [
        "### with \"relu\" activation function"
      ]
    },
    {
      "cell_type": "code",
      "execution_count": 78,
      "metadata": {
        "id": "lrlNA3cIW0Ud"
      },
      "outputs": [],
      "source": [
        "model_relu = Sequential()\n",
        "model_relu.add(LSTM(100, activation = 'relu', return_sequences=True, input_shape = (length, n_features))) # return_sequences=True 2 tane RNN ard arda göndereceksem bunu true yap\n",
        "model_relu.add(LSTM(50, activation = 'relu'))\n",
        "model_relu.add(Dense(1))\n",
        "model_relu.compile(optimizer = optimizer, loss = 'mse')"
      ]
    },
    {
      "cell_type": "code",
      "execution_count": 79,
      "metadata": {},
      "outputs": [
        {
          "name": "stdout",
          "output_type": "stream",
          "text": [
            "Epoch 1/20\n",
            "465/465 [==============================] - 16s 28ms/step - loss: 0.0393 - val_loss: 0.0112\n",
            "Epoch 2/20\n",
            "465/465 [==============================] - 13s 29ms/step - loss: 0.0222 - val_loss: 0.0029\n",
            "Epoch 3/20\n",
            "465/465 [==============================] - 14s 30ms/step - loss: 0.0051 - val_loss: 0.0025\n",
            "Epoch 4/20\n",
            "465/465 [==============================] - 14s 30ms/step - loss: 0.0037 - val_loss: 0.0030\n",
            "Epoch 5/20\n",
            "465/465 [==============================] - 14s 29ms/step - loss: 0.0039 - val_loss: 0.0024\n",
            "Epoch 6/20\n",
            "465/465 [==============================] - 14s 31ms/step - loss: 0.0034 - val_loss: 0.0038\n",
            "Epoch 7/20\n",
            "465/465 [==============================] - 13s 29ms/step - loss: 0.0032 - val_loss: 0.0036\n",
            "Epoch 8/20\n",
            "465/465 [==============================] - 14s 30ms/step - loss: 0.0035 - val_loss: 0.0031\n",
            "Epoch 9/20\n",
            "465/465 [==============================] - 14s 31ms/step - loss: 0.0030 - val_loss: 0.0025\n",
            "Epoch 10/20\n",
            "465/465 [==============================] - 14s 29ms/step - loss: 0.0028 - val_loss: 0.0021\n",
            "Epoch 11/20\n",
            "465/465 [==============================] - 13s 29ms/step - loss: 0.0030 - val_loss: 0.0032\n",
            "Epoch 12/20\n",
            "465/465 [==============================] - 13s 29ms/step - loss: 0.0030 - val_loss: 0.0026\n",
            "Epoch 13/20\n",
            "465/465 [==============================] - 14s 30ms/step - loss: 0.0028 - val_loss: 0.0021\n",
            "Epoch 14/20\n",
            "465/465 [==============================] - 15s 31ms/step - loss: 0.0027 - val_loss: 0.0017\n",
            "Epoch 15/20\n",
            "465/465 [==============================] - 14s 29ms/step - loss: 0.0026 - val_loss: 0.0024\n",
            "Epoch 16/20\n",
            "465/465 [==============================] - 14s 30ms/step - loss: 0.0024 - val_loss: 0.0039\n",
            "Epoch 17/20\n",
            "465/465 [==============================] - 14s 30ms/step - loss: 0.0031 - val_loss: 0.0028\n",
            "Epoch 18/20\n",
            "465/465 [==============================] - 14s 31ms/step - loss: 0.0029 - val_loss: 0.0019\n",
            "Epoch 19/20\n",
            "465/465 [==============================] - 16s 34ms/step - loss: 0.0023 - val_loss: 0.0018\n"
          ]
        },
        {
          "data": {
            "text/plain": [
              "<keras.callbacks.History at 0x23d053eff40>"
            ]
          },
          "execution_count": 79,
          "metadata": {},
          "output_type": "execute_result"
        }
      ],
      "source": [
        "model_relu.fit_generator(generator,\n",
        "                    epochs = 20,\n",
        "                    validation_data = validation_generator,\n",
        "                    callbacks = [early_stop])"
      ]
    },
    {
      "cell_type": "code",
      "execution_count": 80,
      "metadata": {},
      "outputs": [
        {
          "data": {
            "text/plain": [
              "<AxesSubplot:>"
            ]
          },
          "execution_count": 80,
          "metadata": {},
          "output_type": "execute_result"
        },
        {
          "data": {
            "image/png": "[encoded data removed]",
            "text/plain": [
              "<Figure size 720x432 with 1 Axes>"
            ]
          },
          "metadata": {},
          "output_type": "display_data"
        }
      ],
      "source": [
        "loss_df1 = pd.DataFrame(model_relu.history.history)\n",
        "loss_df1.plot()"
      ]
    },
    {
      "cell_type": "markdown",
      "metadata": {},
      "source": [
        "#### Evaluate on Test Data"
      ]
    },
    {
      "cell_type": "code",
      "execution_count": 81,
      "metadata": {},
      "outputs": [],
      "source": [
        "predictions_scaled = []\n",
        "\n",
        "first_eval_batch = train_scaled[-length:]\n",
        "current_batch = first_eval_batch.reshape((1, length, n_features))\n",
        "\n",
        "for i in range(length):\n",
        "    \n",
        "    # get prediction 1 time stamp ahead\n",
        "    current_pred = model_relu.predict(current_batch)\n",
        "    \n",
        "    # store prediction\n",
        "    predictions_scaled.append(current_pred[0]) \n",
        "    \n",
        "    # update batch to now include prediction and drop first value\n",
        "    current_batch = np.append(current_batch[:, 1:, :], [current_pred], axis=1)"
      ]
    },
    {
      "cell_type": "code",
      "execution_count": 82,
      "metadata": {},
      "outputs": [
        {
          "data": {
            "text/plain": [
              "[array([0.21970172], dtype=float32),\n",
              " array([0.17907912], dtype=float32),\n",
              " array([0.18812111], dtype=float32),\n",
              " array([0.26703775], dtype=float32),\n",
              " array([0.35324103], dtype=float32),\n",
              " array([0.40539962], dtype=float32),\n",
              " array([0.44065666], dtype=float32),\n",
              " array([0.47647667], dtype=float32),\n",
              " array([0.47186965], dtype=float32),\n",
              " array([0.41320962], dtype=float32),\n",
              " array([0.32718164], dtype=float32),\n",
              " array([0.24160767], dtype=float32),\n",
              " array([0.18175381], dtype=float32),\n",
              " array([0.1609493], dtype=float32),\n",
              " array([0.21156803], dtype=float32),\n",
              " array([0.30413687], dtype=float32),\n",
              " array([0.37366158], dtype=float32),\n",
              " array([0.40358245], dtype=float32),\n",
              " array([0.44786972], dtype=float32),\n",
              " array([0.46529114], dtype=float32),\n",
              " array([0.43182945], dtype=float32),\n",
              " array([0.35375023], dtype=float32),\n",
              " array([0.26675195], dtype=float32),\n",
              " array([0.19343287], dtype=float32),\n",
              " array([0.15625134], dtype=float32),\n",
              " array([0.17235371], dtype=float32),\n",
              " array([0.25623745], dtype=float32),\n",
              " array([0.336255], dtype=float32),\n",
              " array([0.3806216], dtype=float32),\n",
              " array([0.42001438], dtype=float32),\n",
              " array([0.4539631], dtype=float32),\n",
              " array([0.44487458], dtype=float32),\n",
              " array([0.38307482], dtype=float32),\n",
              " array([0.29706806], dtype=float32),\n",
              " array([0.21494582], dtype=float32),\n",
              " array([0.16021673], dtype=float32),\n",
              " array([0.14425038], dtype=float32),\n",
              " array([0.20197509], dtype=float32),\n",
              " array([0.28842485], dtype=float32),\n",
              " array([0.34913403], dtype=float32),\n",
              " array([0.379292], dtype=float32),\n",
              " array([0.4235469], dtype=float32),\n",
              " array([0.4376768], dtype=float32),\n",
              " array([0.40144807], dtype=float32),\n",
              " array([0.3229779], dtype=float32),\n",
              " array([0.23886088], dtype=float32),\n",
              " array([0.17103337], dtype=float32),\n",
              " array([0.13934632], dtype=float32)]"
            ]
          },
          "execution_count": 82,
          "metadata": {},
          "output_type": "execute_result"
        }
      ],
      "source": [
        "predictions_scaled"
      ]
    },
    {
      "cell_type": "code",
      "execution_count": 83,
      "metadata": {
        "id": "sEIphpveW0Ud"
      },
      "outputs": [
        {
          "name": "stdout",
          "output_type": "stream",
          "text": [
            "r2_score: 0.14126337087067264 \n",
            "mae: 0.0845023961131887 \n",
            "mse: 0.010400701987582436 \n",
            "rmse: 0.10198383199106825\n"
          ]
        }
      ],
      "source": [
        "eval_metrics(test_scaled[:length], predictions_scaled)"
      ]
    },
    {
      "cell_type": "markdown",
      "metadata": {
        "id": "P17_vbkUW0Ue"
      },
      "source": [
        "#### Inverse Transformations and Comparing"
      ]
    },
    {
      "cell_type": "code",
      "execution_count": 84,
      "metadata": {
        "id": "v-M3v-GIW0Ue"
      },
      "outputs": [],
      "source": [
        "predictions = scaler.inverse_transform(predictions_scaled)"
      ]
    },
    {
      "cell_type": "code",
      "execution_count": 85,
      "metadata": {},
      "outputs": [],
      "source": [
        "compare_r = test[:48]"
      ]
    },
    {
      "cell_type": "code",
      "execution_count": 86,
      "metadata": {},
      "outputs": [],
      "source": [
        "compare_r['Predictions'] = predictions"
      ]
    },
    {
      "cell_type": "code",
      "execution_count": 87,
      "metadata": {},
      "outputs": [
        {
          "data": {
            "text/html": [
              "<div>\n",
              "<style scoped>\n",
              "    .dataframe tbody tr th:only-of-type {\n",
              "        vertical-align: middle;\n",
              "    }\n",
              "\n",
              "    .dataframe tbody tr th {\n",
              "        vertical-align: top;\n",
              "    }\n",
              "\n",
              "    .dataframe thead th {\n",
              "        text-align: right;\n",
              "    }\n",
              "</style>\n",
              "<table border=\"1\" class=\"dataframe\">\n",
              "  <thead>\n",
              "    <tr style=\"text-align: right;\">\n",
              "      <th></th>\n",
              "      <th>Production</th>\n",
              "      <th>Predictions</th>\n",
              "    </tr>\n",
              "    <tr>\n",
              "      <th>DATE</th>\n",
              "      <th></th>\n",
              "      <th></th>\n",
              "    </tr>\n",
              "  </thead>\n",
              "  <tbody>\n",
              "    <tr>\n",
              "      <th>2014-10-01</th>\n",
              "      <td>91.261</td>\n",
              "      <td>88.872</td>\n",
              "    </tr>\n",
              "    <tr>\n",
              "      <th>2014-11-01</th>\n",
              "      <td>86.572</td>\n",
              "      <td>83.286</td>\n",
              "    </tr>\n",
              "    <tr>\n",
              "      <th>2014-12-01</th>\n",
              "      <td>75.375</td>\n",
              "      <td>84.529</td>\n",
              "    </tr>\n",
              "    <tr>\n",
              "      <th>2015-01-01</th>\n",
              "      <td>85.577</td>\n",
              "      <td>95.381</td>\n",
              "    </tr>\n",
              "    <tr>\n",
              "      <th>2015-02-01</th>\n",
              "      <td>100.558</td>\n",
              "      <td>107.235</td>\n",
              "    </tr>\n",
              "    <tr>\n",
              "      <th>2015-03-01</th>\n",
              "      <td>109.579</td>\n",
              "      <td>114.408</td>\n",
              "    </tr>\n",
              "    <tr>\n",
              "      <th>2015-04-01</th>\n",
              "      <td>108.362</td>\n",
              "      <td>119.256</td>\n",
              "    </tr>\n",
              "    <tr>\n",
              "      <th>2015-05-01</th>\n",
              "      <td>106.058</td>\n",
              "      <td>124.182</td>\n",
              "    </tr>\n",
              "    <tr>\n",
              "      <th>2015-06-01</th>\n",
              "      <td>116.138</td>\n",
              "      <td>123.548</td>\n",
              "    </tr>\n",
              "    <tr>\n",
              "      <th>2015-07-01</th>\n",
              "      <td>108.378</td>\n",
              "      <td>115.482</td>\n",
              "    </tr>\n",
              "    <tr>\n",
              "      <th>2015-08-01</th>\n",
              "      <td>112.205</td>\n",
              "      <td>103.652</td>\n",
              "    </tr>\n",
              "    <tr>\n",
              "      <th>2015-09-01</th>\n",
              "      <td>100.348</td>\n",
              "      <td>91.884</td>\n",
              "    </tr>\n",
              "    <tr>\n",
              "      <th>2015-10-01</th>\n",
              "      <td>93.932</td>\n",
              "      <td>83.653</td>\n",
              "    </tr>\n",
              "    <tr>\n",
              "      <th>2015-11-01</th>\n",
              "      <td>85.864</td>\n",
              "      <td>80.793</td>\n",
              "    </tr>\n",
              "    <tr>\n",
              "      <th>2015-12-01</th>\n",
              "      <td>76.975</td>\n",
              "      <td>87.753</td>\n",
              "    </tr>\n",
              "    <tr>\n",
              "      <th>2016-01-01</th>\n",
              "      <td>92.811</td>\n",
              "      <td>100.483</td>\n",
              "    </tr>\n",
              "    <tr>\n",
              "      <th>2016-02-01</th>\n",
              "      <td>101.974</td>\n",
              "      <td>110.043</td>\n",
              "    </tr>\n",
              "    <tr>\n",
              "      <th>2016-03-01</th>\n",
              "      <td>116.179</td>\n",
              "      <td>114.158</td>\n",
              "    </tr>\n",
              "    <tr>\n",
              "      <th>2016-04-01</th>\n",
              "      <td>124.211</td>\n",
              "      <td>120.248</td>\n",
              "    </tr>\n",
              "    <tr>\n",
              "      <th>2016-05-01</th>\n",
              "      <td>121.543</td>\n",
              "      <td>122.644</td>\n",
              "    </tr>\n",
              "    <tr>\n",
              "      <th>2016-06-01</th>\n",
              "      <td>132.987</td>\n",
              "      <td>118.042</td>\n",
              "    </tr>\n",
              "    <tr>\n",
              "      <th>2016-07-01</th>\n",
              "      <td>124.851</td>\n",
              "      <td>107.305</td>\n",
              "    </tr>\n",
              "    <tr>\n",
              "      <th>2016-08-01</th>\n",
              "      <td>121.332</td>\n",
              "      <td>95.342</td>\n",
              "    </tr>\n",
              "    <tr>\n",
              "      <th>2016-09-01</th>\n",
              "      <td>108.036</td>\n",
              "      <td>85.260</td>\n",
              "    </tr>\n",
              "    <tr>\n",
              "      <th>2016-10-01</th>\n",
              "      <td>101.384</td>\n",
              "      <td>80.147</td>\n",
              "    </tr>\n",
              "    <tr>\n",
              "      <th>2016-11-01</th>\n",
              "      <td>86.665</td>\n",
              "      <td>82.361</td>\n",
              "    </tr>\n",
              "    <tr>\n",
              "      <th>2016-12-01</th>\n",
              "      <td>81.257</td>\n",
              "      <td>93.896</td>\n",
              "    </tr>\n",
              "    <tr>\n",
              "      <th>2017-01-01</th>\n",
              "      <td>94.245</td>\n",
              "      <td>104.900</td>\n",
              "    </tr>\n",
              "    <tr>\n",
              "      <th>2017-02-01</th>\n",
              "      <td>112.388</td>\n",
              "      <td>111.001</td>\n",
              "    </tr>\n",
              "    <tr>\n",
              "      <th>2017-03-01</th>\n",
              "      <td>119.698</td>\n",
              "      <td>116.418</td>\n",
              "    </tr>\n",
              "    <tr>\n",
              "      <th>2017-04-01</th>\n",
              "      <td>123.228</td>\n",
              "      <td>121.086</td>\n",
              "    </tr>\n",
              "    <tr>\n",
              "      <th>2017-05-01</th>\n",
              "      <td>116.064</td>\n",
              "      <td>119.836</td>\n",
              "    </tr>\n",
              "    <tr>\n",
              "      <th>2017-06-01</th>\n",
              "      <td>123.087</td>\n",
              "      <td>111.338</td>\n",
              "    </tr>\n",
              "    <tr>\n",
              "      <th>2017-07-01</th>\n",
              "      <td>116.264</td>\n",
              "      <td>99.511</td>\n",
              "    </tr>\n",
              "    <tr>\n",
              "      <th>2017-08-01</th>\n",
              "      <td>113.172</td>\n",
              "      <td>88.218</td>\n",
              "    </tr>\n",
              "    <tr>\n",
              "      <th>2017-09-01</th>\n",
              "      <td>97.912</td>\n",
              "      <td>80.692</td>\n",
              "    </tr>\n",
              "    <tr>\n",
              "      <th>2017-10-01</th>\n",
              "      <td>90.473</td>\n",
              "      <td>78.496</td>\n",
              "    </tr>\n",
              "    <tr>\n",
              "      <th>2017-11-01</th>\n",
              "      <td>77.438</td>\n",
              "      <td>86.434</td>\n",
              "    </tr>\n",
              "    <tr>\n",
              "      <th>2017-12-01</th>\n",
              "      <td>75.812</td>\n",
              "      <td>98.322</td>\n",
              "    </tr>\n",
              "    <tr>\n",
              "      <th>2018-01-01</th>\n",
              "      <td>83.434</td>\n",
              "      <td>106.671</td>\n",
              "    </tr>\n",
              "    <tr>\n",
              "      <th>2018-02-01</th>\n",
              "      <td>99.490</td>\n",
              "      <td>110.818</td>\n",
              "    </tr>\n",
              "    <tr>\n",
              "      <th>2018-03-01</th>\n",
              "      <td>107.315</td>\n",
              "      <td>116.903</td>\n",
              "    </tr>\n",
              "    <tr>\n",
              "      <th>2018-04-01</th>\n",
              "      <td>112.431</td>\n",
              "      <td>118.846</td>\n",
              "    </tr>\n",
              "    <tr>\n",
              "      <th>2018-05-01</th>\n",
              "      <td>110.354</td>\n",
              "      <td>113.864</td>\n",
              "    </tr>\n",
              "    <tr>\n",
              "      <th>2018-06-01</th>\n",
              "      <td>124.584</td>\n",
              "      <td>103.074</td>\n",
              "    </tr>\n",
              "    <tr>\n",
              "      <th>2018-07-01</th>\n",
              "      <td>117.222</td>\n",
              "      <td>91.506</td>\n",
              "    </tr>\n",
              "    <tr>\n",
              "      <th>2018-08-01</th>\n",
              "      <td>112.678</td>\n",
              "      <td>82.179</td>\n",
              "    </tr>\n",
              "    <tr>\n",
              "      <th>2018-09-01</th>\n",
              "      <td>103.312</td>\n",
              "      <td>77.822</td>\n",
              "    </tr>\n",
              "  </tbody>\n",
              "</table>\n",
              "</div>"
            ],
            "text/plain": [
              "            Production  Predictions\n",
              "DATE                               \n",
              "2014-10-01      91.261       88.872\n",
              "2014-11-01      86.572       83.286\n",
              "2014-12-01      75.375       84.529\n",
              "2015-01-01      85.577       95.381\n",
              "2015-02-01     100.558      107.235\n",
              "2015-03-01     109.579      114.408\n",
              "2015-04-01     108.362      119.256\n",
              "2015-05-01     106.058      124.182\n",
              "2015-06-01     116.138      123.548\n",
              "2015-07-01     108.378      115.482\n",
              "2015-08-01     112.205      103.652\n",
              "2015-09-01     100.348       91.884\n",
              "2015-10-01      93.932       83.653\n",
              "2015-11-01      85.864       80.793\n",
              "2015-12-01      76.975       87.753\n",
              "2016-01-01      92.811      100.483\n",
              "2016-02-01     101.974      110.043\n",
              "2016-03-01     116.179      114.158\n",
              "2016-04-01     124.211      120.248\n",
              "2016-05-01     121.543      122.644\n",
              "2016-06-01     132.987      118.042\n",
              "2016-07-01     124.851      107.305\n",
              "2016-08-01     121.332       95.342\n",
              "2016-09-01     108.036       85.260\n",
              "2016-10-01     101.384       80.147\n",
              "2016-11-01      86.665       82.361\n",
              "2016-12-01      81.257       93.896\n",
              "2017-01-01      94.245      104.900\n",
              "2017-02-01     112.388      111.001\n",
              "2017-03-01     119.698      116.418\n",
              "2017-04-01     123.228      121.086\n",
              "2017-05-01     116.064      119.836\n",
              "2017-06-01     123.087      111.338\n",
              "2017-07-01     116.264       99.511\n",
              "2017-08-01     113.172       88.218\n",
              "2017-09-01      97.912       80.692\n",
              "2017-10-01      90.473       78.496\n",
              "2017-11-01      77.438       86.434\n",
              "2017-12-01      75.812       98.322\n",
              "2018-01-01      83.434      106.671\n",
              "2018-02-01      99.490      110.818\n",
              "2018-03-01     107.315      116.903\n",
              "2018-04-01     112.431      118.846\n",
              "2018-05-01     110.354      113.864\n",
              "2018-06-01     124.584      103.074\n",
              "2018-07-01     117.222       91.506\n",
              "2018-08-01     112.678       82.179\n",
              "2018-09-01     103.312       77.822"
            ]
          },
          "execution_count": 87,
          "metadata": {},
          "output_type": "execute_result"
        }
      ],
      "source": [
        "compare_r"
      ]
    },
    {
      "cell_type": "code",
      "execution_count": 88,
      "metadata": {},
      "outputs": [
        {
          "data": {
            "text/plain": [
              "<AxesSubplot:xlabel='DATE'>"
            ]
          },
          "execution_count": 88,
          "metadata": {},
          "output_type": "execute_result"
        },
        {
          "data": {
            "image/png": "[encoded data removed]",
            "text/plain": [
              "<Figure size 720x432 with 1 Axes>"
            ]
          },
          "metadata": {},
          "output_type": "display_data"
        }
      ],
      "source": [
        "compare_r.plot()"
      ]
    },
    {
      "cell_type": "markdown",
      "metadata": {
        "id": "y2YxA_sTW0Ue"
      },
      "source": [
        "#### Calculation R2 Score and Error Metrics"
      ]
    },
    {
      "cell_type": "code",
      "execution_count": 89,
      "metadata": {
        "id": "biBzyA-dW0Uf"
      },
      "outputs": [
        {
          "name": "stdout",
          "output_type": "stream",
          "text": [
            "r2_score: 0.14126337087067253 \n",
            "mae: 11.62025404886942 \n",
            "mse: 196.6780306455977 \n",
            "rmse: 14.024194474036564\n"
          ]
        }
      ],
      "source": [
        "eval_metrics(compare_r.Production, compare_r.Predictions)"
      ]
    },
    {
      "cell_type": "markdown",
      "metadata": {
        "collapsed": true,
        "id": "d7iS01PhW0Uf"
      },
      "source": [
        "## Retrain and Forecasting\n",
        "\n",
        "Select activation function providing a better score, create your final model with full data, forecast for the next 12 months, and plot this forecast."
      ]
    },
    {
      "cell_type": "code",
      "execution_count": 90,
      "metadata": {
        "id": "c5xKyE39W0Uf"
      },
      "outputs": [],
      "source": [
        "full_scaler = MinMaxScaler()\n",
        "scaled_full_data = full_scaler.fit_transform(df)"
      ]
    },
    {
      "cell_type": "code",
      "execution_count": 91,
      "metadata": {},
      "outputs": [],
      "source": [
        "generator = TimeseriesGenerator(scaled_full_data, scaled_full_data, length = length, batch_size = batch_size)"
      ]
    },
    {
      "cell_type": "code",
      "execution_count": 92,
      "metadata": {},
      "outputs": [
        {
          "data": {
            "text/plain": [
              "573"
            ]
          },
          "execution_count": 92,
          "metadata": {},
          "output_type": "execute_result"
        }
      ],
      "source": [
        "len(df)"
      ]
    },
    {
      "cell_type": "code",
      "execution_count": 93,
      "metadata": {},
      "outputs": [
        {
          "data": {
            "text/plain": [
              "525"
            ]
          },
          "execution_count": 93,
          "metadata": {},
          "output_type": "execute_result"
        }
      ],
      "source": [
        "len(generator) "
      ]
    },
    {
      "cell_type": "code",
      "execution_count": 110,
      "metadata": {},
      "outputs": [
        {
          "name": "stdout",
          "output_type": "stream",
          "text": [
            "Epoch 1/15\n",
            "525/525 [==============================] - 19s 32ms/step - loss: 0.7085\n",
            "Epoch 2/15\n",
            "525/525 [==============================] - 17s 32ms/step - loss: 0.0352\n",
            "Epoch 3/15\n",
            "525/525 [==============================] - 21s 40ms/step - loss: 0.0291\n",
            "Epoch 4/15\n",
            "525/525 [==============================] - 14s 27ms/step - loss: 0.0277\n",
            "Epoch 5/15\n",
            "525/525 [==============================] - 17s 33ms/step - loss: 0.0265\n",
            "Epoch 6/15\n",
            "525/525 [==============================] - 14s 26ms/step - loss: 0.0265\n",
            "Epoch 7/15\n",
            "525/525 [==============================] - 15s 28ms/step - loss: 0.0263\n",
            "Epoch 8/15\n",
            "525/525 [==============================] - 15s 28ms/step - loss: 0.0254\n",
            "Epoch 9/15\n",
            "525/525 [==============================] - 14s 27ms/step - loss: 0.0245\n",
            "Epoch 10/15\n",
            "525/525 [==============================] - 15s 28ms/step - loss: 0.0182\n",
            "Epoch 11/15\n",
            "525/525 [==============================] - 13s 25ms/step - loss: 0.0061\n",
            "Epoch 12/15\n",
            "525/525 [==============================] - 13s 24ms/step - loss: 0.0045\n",
            "Epoch 13/15\n",
            "525/525 [==============================] - 13s 25ms/step - loss: 0.0044\n",
            "Epoch 14/15\n",
            "525/525 [==============================] - 13s 25ms/step - loss: 0.0042\n",
            "Epoch 15/15\n",
            "525/525 [==============================] - 13s 25ms/step - loss: 0.0039\n"
          ]
        },
        {
          "data": {
            "text/plain": [
              "<keras.callbacks.History at 0x23d0f8d1880>"
            ]
          },
          "execution_count": 110,
          "metadata": {},
          "output_type": "execute_result"
        }
      ],
      "source": [
        "final_model = Sequential()\n",
        "final_model.add(LSTM(100, activation = 'relu', return_sequences=True, input_shape = (length, n_features)))\n",
        "final_model.add(LSTM(50, activation = 'relu'))\n",
        "final_model.add(Dense(1))\n",
        "final_model.compile(optimizer = optimizer, loss = 'mse')\n",
        "\n",
        "final_model.fit_generator(generator, epochs=15)"
      ]
    },
    {
      "cell_type": "code",
      "execution_count": 111,
      "metadata": {},
      "outputs": [
        {
          "data": {
            "text/plain": [
              "(573, 1)"
            ]
          },
          "execution_count": 111,
          "metadata": {},
          "output_type": "execute_result"
        }
      ],
      "source": [
        "scaled_full_data.shape"
      ]
    },
    {
      "cell_type": "code",
      "execution_count": 112,
      "metadata": {},
      "outputs": [
        {
          "data": {
            "text/plain": [
              "(48, 1)"
            ]
          },
          "execution_count": 112,
          "metadata": {},
          "output_type": "execute_result"
        }
      ],
      "source": [
        "scaled_full_data[-length:].shape"
      ]
    },
    {
      "cell_type": "code",
      "execution_count": 113,
      "metadata": {},
      "outputs": [],
      "source": [
        "forecast = []\n",
        "# Replace periods with whatever forecast length you want\n",
        "\n",
        "first_eval_batch = scaled_full_data[-length:]\n",
        "current_batch = first_eval_batch.reshape((1, length, n_features))\n",
        "\n",
        "for i in range(length):\n",
        "    \n",
        "    # get prediction 1 time stamp ahead ([0] is for grabbing just the number instead of [array])\n",
        "    current_pred = final_model.predict(current_batch)\n",
        "    \n",
        "    # store prediction\n",
        "    forecast.append(current_pred[0]) \n",
        "    \n",
        "    # update batch to now include prediction and drop first value\n",
        "    current_batch = np.append(current_batch[:, 1:, :], [current_pred], axis = 1)"
      ]
    },
    {
      "cell_type": "code",
      "execution_count": 114,
      "metadata": {},
      "outputs": [],
      "source": [
        "forecast = scaler.inverse_transform(forecast)"
      ]
    },
    {
      "cell_type": "code",
      "execution_count": 115,
      "metadata": {},
      "outputs": [
        {
          "data": {
            "text/plain": [
              "array([[ 88.81833618],\n",
              "       [ 83.73985225],\n",
              "       [ 84.72626224],\n",
              "       [ 90.45482437],\n",
              "       [ 98.47145079],\n",
              "       [106.65816416],\n",
              "       [113.44892081],\n",
              "       [118.36050212],\n",
              "       [119.73945527],\n",
              "       [116.43030787],\n",
              "       [108.67988426],\n",
              "       [ 98.39084674],\n",
              "       [ 88.79758887],\n",
              "       [ 83.21105513],\n",
              "       [ 83.87732545],\n",
              "       [ 89.56757319],\n",
              "       [ 97.76119823],\n",
              "       [106.25677087],\n",
              "       [113.38107045],\n",
              "       [118.52572651],\n",
              "       [120.24680429],\n",
              "       [117.25845023],\n",
              "       [109.65903423],\n",
              "       [ 99.24920537],\n",
              "       [ 89.26753536],\n",
              "       [ 83.1078616 ],\n",
              "       [ 83.26353506],\n",
              "       [ 88.72124288],\n",
              "       [ 96.89667175],\n",
              "       [105.5421209 ],\n",
              "       [112.91145387],\n",
              "       [118.27502526],\n",
              "       [120.36714892],\n",
              "       [117.79690894],\n",
              "       [110.50341788],\n",
              "       [100.14062855],\n",
              "       [ 89.89898095],\n",
              "       [ 83.25126085],\n",
              "       [ 82.83504219],\n",
              "       [ 87.96930513],\n",
              "       [ 96.02526845],\n",
              "       [104.72599046],\n",
              "       [112.27861693],\n",
              "       [117.83297749],\n",
              "       [120.28402854],\n",
              "       [118.15291839],\n",
              "       [111.2353501 ],\n",
              "       [101.03758024]])"
            ]
          },
          "execution_count": 115,
          "metadata": {},
          "output_type": "execute_result"
        }
      ],
      "source": [
        "forecast"
      ]
    },
    {
      "cell_type": "code",
      "execution_count": 116,
      "metadata": {},
      "outputs": [
        {
          "data": {
            "text/html": [
              "<div>\n",
              "<style scoped>\n",
              "    .dataframe tbody tr th:only-of-type {\n",
              "        vertical-align: middle;\n",
              "    }\n",
              "\n",
              "    .dataframe tbody tr th {\n",
              "        vertical-align: top;\n",
              "    }\n",
              "\n",
              "    .dataframe thead th {\n",
              "        text-align: right;\n",
              "    }\n",
              "</style>\n",
              "<table border=\"1\" class=\"dataframe\">\n",
              "  <thead>\n",
              "    <tr style=\"text-align: right;\">\n",
              "      <th></th>\n",
              "      <th>Production</th>\n",
              "    </tr>\n",
              "    <tr>\n",
              "      <th>DATE</th>\n",
              "      <th></th>\n",
              "    </tr>\n",
              "  </thead>\n",
              "  <tbody>\n",
              "    <tr>\n",
              "      <th>1972-01-01</th>\n",
              "      <td>59.962</td>\n",
              "    </tr>\n",
              "    <tr>\n",
              "      <th>1972-02-01</th>\n",
              "      <td>67.061</td>\n",
              "    </tr>\n",
              "    <tr>\n",
              "      <th>1972-03-01</th>\n",
              "      <td>74.235</td>\n",
              "    </tr>\n",
              "    <tr>\n",
              "      <th>1972-04-01</th>\n",
              "      <td>78.112</td>\n",
              "    </tr>\n",
              "    <tr>\n",
              "      <th>1972-05-01</th>\n",
              "      <td>84.764</td>\n",
              "    </tr>\n",
              "    <tr>\n",
              "      <th>...</th>\n",
              "      <td>...</td>\n",
              "    </tr>\n",
              "    <tr>\n",
              "      <th>2019-05-01</th>\n",
              "      <td>114.561</td>\n",
              "    </tr>\n",
              "    <tr>\n",
              "      <th>2019-06-01</th>\n",
              "      <td>124.960</td>\n",
              "    </tr>\n",
              "    <tr>\n",
              "      <th>2019-07-01</th>\n",
              "      <td>110.263</td>\n",
              "    </tr>\n",
              "    <tr>\n",
              "      <th>2019-08-01</th>\n",
              "      <td>102.609</td>\n",
              "    </tr>\n",
              "    <tr>\n",
              "      <th>2019-09-01</th>\n",
              "      <td>101.587</td>\n",
              "    </tr>\n",
              "  </tbody>\n",
              "</table>\n",
              "<p>573 rows × 1 columns</p>\n",
              "</div>"
            ],
            "text/plain": [
              "            Production\n",
              "DATE                  \n",
              "1972-01-01      59.962\n",
              "1972-02-01      67.061\n",
              "1972-03-01      74.235\n",
              "1972-04-01      78.112\n",
              "1972-05-01      84.764\n",
              "...                ...\n",
              "2019-05-01     114.561\n",
              "2019-06-01     124.960\n",
              "2019-07-01     110.263\n",
              "2019-08-01     102.609\n",
              "2019-09-01     101.587\n",
              "\n",
              "[573 rows x 1 columns]"
            ]
          },
          "execution_count": 116,
          "metadata": {},
          "output_type": "execute_result"
        }
      ],
      "source": [
        "df"
      ]
    },
    {
      "cell_type": "code",
      "execution_count": 117,
      "metadata": {},
      "outputs": [],
      "source": [
        "forecast_index = pd.date_range(start = '2019-10-01', periods = length, freq = 'MS') # MS mounth allias stock owerflow started month allias bakabilirsin"
      ]
    },
    {
      "cell_type": "code",
      "execution_count": 118,
      "metadata": {},
      "outputs": [
        {
          "data": {
            "text/plain": [
              "DatetimeIndex(['2019-10-01', '2019-11-01', '2019-12-01', '2020-01-01',\n",
              "               '2020-02-01', '2020-03-01', '2020-04-01', '2020-05-01',\n",
              "               '2020-06-01', '2020-07-01', '2020-08-01', '2020-09-01',\n",
              "               '2020-10-01', '2020-11-01', '2020-12-01', '2021-01-01',\n",
              "               '2021-02-01', '2021-03-01', '2021-04-01', '2021-05-01',\n",
              "               '2021-06-01', '2021-07-01', '2021-08-01', '2021-09-01',\n",
              "               '2021-10-01', '2021-11-01', '2021-12-01', '2022-01-01',\n",
              "               '2022-02-01', '2022-03-01', '2022-04-01', '2022-05-01',\n",
              "               '2022-06-01', '2022-07-01', '2022-08-01', '2022-09-01',\n",
              "               '2022-10-01', '2022-11-01', '2022-12-01', '2023-01-01',\n",
              "               '2023-02-01', '2023-03-01', '2023-04-01', '2023-05-01',\n",
              "               '2023-06-01', '2023-07-01', '2023-08-01', '2023-09-01'],\n",
              "              dtype='datetime64[ns]', freq='MS')"
            ]
          },
          "execution_count": 118,
          "metadata": {},
          "output_type": "execute_result"
        }
      ],
      "source": [
        "forecast_index"
      ]
    },
    {
      "cell_type": "code",
      "execution_count": 119,
      "metadata": {},
      "outputs": [],
      "source": [
        "forecast_df = pd.DataFrame(data = forecast, index = forecast_index, columns = ['Forecast'])"
      ]
    },
    {
      "cell_type": "code",
      "execution_count": 120,
      "metadata": {},
      "outputs": [
        {
          "data": {
            "text/html": [
              "<div>\n",
              "<style scoped>\n",
              "    .dataframe tbody tr th:only-of-type {\n",
              "        vertical-align: middle;\n",
              "    }\n",
              "\n",
              "    .dataframe tbody tr th {\n",
              "        vertical-align: top;\n",
              "    }\n",
              "\n",
              "    .dataframe thead th {\n",
              "        text-align: right;\n",
              "    }\n",
              "</style>\n",
              "<table border=\"1\" class=\"dataframe\">\n",
              "  <thead>\n",
              "    <tr style=\"text-align: right;\">\n",
              "      <th></th>\n",
              "      <th>Forecast</th>\n",
              "    </tr>\n",
              "  </thead>\n",
              "  <tbody>\n",
              "    <tr>\n",
              "      <th>2019-10-01</th>\n",
              "      <td>88.818</td>\n",
              "    </tr>\n",
              "    <tr>\n",
              "      <th>2019-11-01</th>\n",
              "      <td>83.740</td>\n",
              "    </tr>\n",
              "    <tr>\n",
              "      <th>2019-12-01</th>\n",
              "      <td>84.726</td>\n",
              "    </tr>\n",
              "    <tr>\n",
              "      <th>2020-01-01</th>\n",
              "      <td>90.455</td>\n",
              "    </tr>\n",
              "    <tr>\n",
              "      <th>2020-02-01</th>\n",
              "      <td>98.471</td>\n",
              "    </tr>\n",
              "    <tr>\n",
              "      <th>2020-03-01</th>\n",
              "      <td>106.658</td>\n",
              "    </tr>\n",
              "    <tr>\n",
              "      <th>2020-04-01</th>\n",
              "      <td>113.449</td>\n",
              "    </tr>\n",
              "    <tr>\n",
              "      <th>2020-05-01</th>\n",
              "      <td>118.361</td>\n",
              "    </tr>\n",
              "    <tr>\n",
              "      <th>2020-06-01</th>\n",
              "      <td>119.739</td>\n",
              "    </tr>\n",
              "    <tr>\n",
              "      <th>2020-07-01</th>\n",
              "      <td>116.430</td>\n",
              "    </tr>\n",
              "    <tr>\n",
              "      <th>2020-08-01</th>\n",
              "      <td>108.680</td>\n",
              "    </tr>\n",
              "    <tr>\n",
              "      <th>2020-09-01</th>\n",
              "      <td>98.391</td>\n",
              "    </tr>\n",
              "    <tr>\n",
              "      <th>2020-10-01</th>\n",
              "      <td>88.798</td>\n",
              "    </tr>\n",
              "    <tr>\n",
              "      <th>2020-11-01</th>\n",
              "      <td>83.211</td>\n",
              "    </tr>\n",
              "    <tr>\n",
              "      <th>2020-12-01</th>\n",
              "      <td>83.877</td>\n",
              "    </tr>\n",
              "    <tr>\n",
              "      <th>2021-01-01</th>\n",
              "      <td>89.568</td>\n",
              "    </tr>\n",
              "    <tr>\n",
              "      <th>2021-02-01</th>\n",
              "      <td>97.761</td>\n",
              "    </tr>\n",
              "    <tr>\n",
              "      <th>2021-03-01</th>\n",
              "      <td>106.257</td>\n",
              "    </tr>\n",
              "    <tr>\n",
              "      <th>2021-04-01</th>\n",
              "      <td>113.381</td>\n",
              "    </tr>\n",
              "    <tr>\n",
              "      <th>2021-05-01</th>\n",
              "      <td>118.526</td>\n",
              "    </tr>\n",
              "    <tr>\n",
              "      <th>2021-06-01</th>\n",
              "      <td>120.247</td>\n",
              "    </tr>\n",
              "    <tr>\n",
              "      <th>2021-07-01</th>\n",
              "      <td>117.258</td>\n",
              "    </tr>\n",
              "    <tr>\n",
              "      <th>2021-08-01</th>\n",
              "      <td>109.659</td>\n",
              "    </tr>\n",
              "    <tr>\n",
              "      <th>2021-09-01</th>\n",
              "      <td>99.249</td>\n",
              "    </tr>\n",
              "    <tr>\n",
              "      <th>2021-10-01</th>\n",
              "      <td>89.268</td>\n",
              "    </tr>\n",
              "    <tr>\n",
              "      <th>2021-11-01</th>\n",
              "      <td>83.108</td>\n",
              "    </tr>\n",
              "    <tr>\n",
              "      <th>2021-12-01</th>\n",
              "      <td>83.264</td>\n",
              "    </tr>\n",
              "    <tr>\n",
              "      <th>2022-01-01</th>\n",
              "      <td>88.721</td>\n",
              "    </tr>\n",
              "    <tr>\n",
              "      <th>2022-02-01</th>\n",
              "      <td>96.897</td>\n",
              "    </tr>\n",
              "    <tr>\n",
              "      <th>2022-03-01</th>\n",
              "      <td>105.542</td>\n",
              "    </tr>\n",
              "    <tr>\n",
              "      <th>2022-04-01</th>\n",
              "      <td>112.911</td>\n",
              "    </tr>\n",
              "    <tr>\n",
              "      <th>2022-05-01</th>\n",
              "      <td>118.275</td>\n",
              "    </tr>\n",
              "    <tr>\n",
              "      <th>2022-06-01</th>\n",
              "      <td>120.367</td>\n",
              "    </tr>\n",
              "    <tr>\n",
              "      <th>2022-07-01</th>\n",
              "      <td>117.797</td>\n",
              "    </tr>\n",
              "    <tr>\n",
              "      <th>2022-08-01</th>\n",
              "      <td>110.503</td>\n",
              "    </tr>\n",
              "    <tr>\n",
              "      <th>2022-09-01</th>\n",
              "      <td>100.141</td>\n",
              "    </tr>\n",
              "    <tr>\n",
              "      <th>2022-10-01</th>\n",
              "      <td>89.899</td>\n",
              "    </tr>\n",
              "    <tr>\n",
              "      <th>2022-11-01</th>\n",
              "      <td>83.251</td>\n",
              "    </tr>\n",
              "    <tr>\n",
              "      <th>2022-12-01</th>\n",
              "      <td>82.835</td>\n",
              "    </tr>\n",
              "    <tr>\n",
              "      <th>2023-01-01</th>\n",
              "      <td>87.969</td>\n",
              "    </tr>\n",
              "    <tr>\n",
              "      <th>2023-02-01</th>\n",
              "      <td>96.025</td>\n",
              "    </tr>\n",
              "    <tr>\n",
              "      <th>2023-03-01</th>\n",
              "      <td>104.726</td>\n",
              "    </tr>\n",
              "    <tr>\n",
              "      <th>2023-04-01</th>\n",
              "      <td>112.279</td>\n",
              "    </tr>\n",
              "    <tr>\n",
              "      <th>2023-05-01</th>\n",
              "      <td>117.833</td>\n",
              "    </tr>\n",
              "    <tr>\n",
              "      <th>2023-06-01</th>\n",
              "      <td>120.284</td>\n",
              "    </tr>\n",
              "    <tr>\n",
              "      <th>2023-07-01</th>\n",
              "      <td>118.153</td>\n",
              "    </tr>\n",
              "    <tr>\n",
              "      <th>2023-08-01</th>\n",
              "      <td>111.235</td>\n",
              "    </tr>\n",
              "    <tr>\n",
              "      <th>2023-09-01</th>\n",
              "      <td>101.038</td>\n",
              "    </tr>\n",
              "  </tbody>\n",
              "</table>\n",
              "</div>"
            ],
            "text/plain": [
              "            Forecast\n",
              "2019-10-01    88.818\n",
              "2019-11-01    83.740\n",
              "2019-12-01    84.726\n",
              "2020-01-01    90.455\n",
              "2020-02-01    98.471\n",
              "2020-03-01   106.658\n",
              "2020-04-01   113.449\n",
              "2020-05-01   118.361\n",
              "2020-06-01   119.739\n",
              "2020-07-01   116.430\n",
              "2020-08-01   108.680\n",
              "2020-09-01    98.391\n",
              "2020-10-01    88.798\n",
              "2020-11-01    83.211\n",
              "2020-12-01    83.877\n",
              "2021-01-01    89.568\n",
              "2021-02-01    97.761\n",
              "2021-03-01   106.257\n",
              "2021-04-01   113.381\n",
              "2021-05-01   118.526\n",
              "2021-06-01   120.247\n",
              "2021-07-01   117.258\n",
              "2021-08-01   109.659\n",
              "2021-09-01    99.249\n",
              "2021-10-01    89.268\n",
              "2021-11-01    83.108\n",
              "2021-12-01    83.264\n",
              "2022-01-01    88.721\n",
              "2022-02-01    96.897\n",
              "2022-03-01   105.542\n",
              "2022-04-01   112.911\n",
              "2022-05-01   118.275\n",
              "2022-06-01   120.367\n",
              "2022-07-01   117.797\n",
              "2022-08-01   110.503\n",
              "2022-09-01   100.141\n",
              "2022-10-01    89.899\n",
              "2022-11-01    83.251\n",
              "2022-12-01    82.835\n",
              "2023-01-01    87.969\n",
              "2023-02-01    96.025\n",
              "2023-03-01   104.726\n",
              "2023-04-01   112.279\n",
              "2023-05-01   117.833\n",
              "2023-06-01   120.284\n",
              "2023-07-01   118.153\n",
              "2023-08-01   111.235\n",
              "2023-09-01   101.038"
            ]
          },
          "execution_count": 120,
          "metadata": {},
          "output_type": "execute_result"
        }
      ],
      "source": [
        "forecast_df"
      ]
    },
    {
      "cell_type": "code",
      "execution_count": 121,
      "metadata": {},
      "outputs": [
        {
          "data": {
            "text/plain": [
              "[<matplotlib.lines.Line2D at 0x23d131738e0>]"
            ]
          },
          "execution_count": 121,
          "metadata": {},
          "output_type": "execute_result"
        },
        {
          "data": {
            "image/png": "[encoded data removed]",
            "text/plain": [
              "<Figure size 1152x576 with 1 Axes>"
            ]
          },
          "metadata": {},
          "output_type": "display_data"
        }
      ],
      "source": [
        "plt.figure(figsize = (16, 8))\n",
        "plt.plot(df.index, df['Production'])\n",
        "plt.plot(forecast_df.index, forecast_df['Forecast'])"
      ]
    },
    {
      "cell_type": "code",
      "execution_count": 122,
      "metadata": {},
      "outputs": [
        {
          "data": {
            "text/html": [
              "<div>\n",
              "<style scoped>\n",
              "    .dataframe tbody tr th:only-of-type {\n",
              "        vertical-align: middle;\n",
              "    }\n",
              "\n",
              "    .dataframe tbody tr th {\n",
              "        vertical-align: top;\n",
              "    }\n",
              "\n",
              "    .dataframe thead th {\n",
              "        text-align: right;\n",
              "    }\n",
              "</style>\n",
              "<table border=\"1\" class=\"dataframe\">\n",
              "  <thead>\n",
              "    <tr style=\"text-align: right;\">\n",
              "      <th></th>\n",
              "      <th>Forecast</th>\n",
              "    </tr>\n",
              "  </thead>\n",
              "  <tbody>\n",
              "    <tr>\n",
              "      <th>2019-10-01</th>\n",
              "      <td>88.818</td>\n",
              "    </tr>\n",
              "    <tr>\n",
              "      <th>2019-11-01</th>\n",
              "      <td>83.740</td>\n",
              "    </tr>\n",
              "    <tr>\n",
              "      <th>2019-12-01</th>\n",
              "      <td>84.726</td>\n",
              "    </tr>\n",
              "    <tr>\n",
              "      <th>2020-01-01</th>\n",
              "      <td>90.455</td>\n",
              "    </tr>\n",
              "    <tr>\n",
              "      <th>2020-02-01</th>\n",
              "      <td>98.471</td>\n",
              "    </tr>\n",
              "    <tr>\n",
              "      <th>2020-03-01</th>\n",
              "      <td>106.658</td>\n",
              "    </tr>\n",
              "    <tr>\n",
              "      <th>2020-04-01</th>\n",
              "      <td>113.449</td>\n",
              "    </tr>\n",
              "    <tr>\n",
              "      <th>2020-05-01</th>\n",
              "      <td>118.361</td>\n",
              "    </tr>\n",
              "    <tr>\n",
              "      <th>2020-06-01</th>\n",
              "      <td>119.739</td>\n",
              "    </tr>\n",
              "    <tr>\n",
              "      <th>2020-07-01</th>\n",
              "      <td>116.430</td>\n",
              "    </tr>\n",
              "    <tr>\n",
              "      <th>2020-08-01</th>\n",
              "      <td>108.680</td>\n",
              "    </tr>\n",
              "    <tr>\n",
              "      <th>2020-09-01</th>\n",
              "      <td>98.391</td>\n",
              "    </tr>\n",
              "    <tr>\n",
              "      <th>2020-10-01</th>\n",
              "      <td>88.798</td>\n",
              "    </tr>\n",
              "    <tr>\n",
              "      <th>2020-11-01</th>\n",
              "      <td>83.211</td>\n",
              "    </tr>\n",
              "    <tr>\n",
              "      <th>2020-12-01</th>\n",
              "      <td>83.877</td>\n",
              "    </tr>\n",
              "    <tr>\n",
              "      <th>2021-01-01</th>\n",
              "      <td>89.568</td>\n",
              "    </tr>\n",
              "    <tr>\n",
              "      <th>2021-02-01</th>\n",
              "      <td>97.761</td>\n",
              "    </tr>\n",
              "    <tr>\n",
              "      <th>2021-03-01</th>\n",
              "      <td>106.257</td>\n",
              "    </tr>\n",
              "    <tr>\n",
              "      <th>2021-04-01</th>\n",
              "      <td>113.381</td>\n",
              "    </tr>\n",
              "    <tr>\n",
              "      <th>2021-05-01</th>\n",
              "      <td>118.526</td>\n",
              "    </tr>\n",
              "    <tr>\n",
              "      <th>2021-06-01</th>\n",
              "      <td>120.247</td>\n",
              "    </tr>\n",
              "    <tr>\n",
              "      <th>2021-07-01</th>\n",
              "      <td>117.258</td>\n",
              "    </tr>\n",
              "    <tr>\n",
              "      <th>2021-08-01</th>\n",
              "      <td>109.659</td>\n",
              "    </tr>\n",
              "    <tr>\n",
              "      <th>2021-09-01</th>\n",
              "      <td>99.249</td>\n",
              "    </tr>\n",
              "    <tr>\n",
              "      <th>2021-10-01</th>\n",
              "      <td>89.268</td>\n",
              "    </tr>\n",
              "    <tr>\n",
              "      <th>2021-11-01</th>\n",
              "      <td>83.108</td>\n",
              "    </tr>\n",
              "    <tr>\n",
              "      <th>2021-12-01</th>\n",
              "      <td>83.264</td>\n",
              "    </tr>\n",
              "    <tr>\n",
              "      <th>2022-01-01</th>\n",
              "      <td>88.721</td>\n",
              "    </tr>\n",
              "    <tr>\n",
              "      <th>2022-02-01</th>\n",
              "      <td>96.897</td>\n",
              "    </tr>\n",
              "    <tr>\n",
              "      <th>2022-03-01</th>\n",
              "      <td>105.542</td>\n",
              "    </tr>\n",
              "    <tr>\n",
              "      <th>2022-04-01</th>\n",
              "      <td>112.911</td>\n",
              "    </tr>\n",
              "    <tr>\n",
              "      <th>2022-05-01</th>\n",
              "      <td>118.275</td>\n",
              "    </tr>\n",
              "    <tr>\n",
              "      <th>2022-06-01</th>\n",
              "      <td>120.367</td>\n",
              "    </tr>\n",
              "    <tr>\n",
              "      <th>2022-07-01</th>\n",
              "      <td>117.797</td>\n",
              "    </tr>\n",
              "    <tr>\n",
              "      <th>2022-08-01</th>\n",
              "      <td>110.503</td>\n",
              "    </tr>\n",
              "    <tr>\n",
              "      <th>2022-09-01</th>\n",
              "      <td>100.141</td>\n",
              "    </tr>\n",
              "    <tr>\n",
              "      <th>2022-10-01</th>\n",
              "      <td>89.899</td>\n",
              "    </tr>\n",
              "    <tr>\n",
              "      <th>2022-11-01</th>\n",
              "      <td>83.251</td>\n",
              "    </tr>\n",
              "    <tr>\n",
              "      <th>2022-12-01</th>\n",
              "      <td>82.835</td>\n",
              "    </tr>\n",
              "    <tr>\n",
              "      <th>2023-01-01</th>\n",
              "      <td>87.969</td>\n",
              "    </tr>\n",
              "    <tr>\n",
              "      <th>2023-02-01</th>\n",
              "      <td>96.025</td>\n",
              "    </tr>\n",
              "    <tr>\n",
              "      <th>2023-03-01</th>\n",
              "      <td>104.726</td>\n",
              "    </tr>\n",
              "    <tr>\n",
              "      <th>2023-04-01</th>\n",
              "      <td>112.279</td>\n",
              "    </tr>\n",
              "    <tr>\n",
              "      <th>2023-05-01</th>\n",
              "      <td>117.833</td>\n",
              "    </tr>\n",
              "    <tr>\n",
              "      <th>2023-06-01</th>\n",
              "      <td>120.284</td>\n",
              "    </tr>\n",
              "    <tr>\n",
              "      <th>2023-07-01</th>\n",
              "      <td>118.153</td>\n",
              "    </tr>\n",
              "    <tr>\n",
              "      <th>2023-08-01</th>\n",
              "      <td>111.235</td>\n",
              "    </tr>\n",
              "    <tr>\n",
              "      <th>2023-09-01</th>\n",
              "      <td>101.038</td>\n",
              "    </tr>\n",
              "  </tbody>\n",
              "</table>\n",
              "</div>"
            ],
            "text/plain": [
              "            Forecast\n",
              "2019-10-01    88.818\n",
              "2019-11-01    83.740\n",
              "2019-12-01    84.726\n",
              "2020-01-01    90.455\n",
              "2020-02-01    98.471\n",
              "2020-03-01   106.658\n",
              "2020-04-01   113.449\n",
              "2020-05-01   118.361\n",
              "2020-06-01   119.739\n",
              "2020-07-01   116.430\n",
              "2020-08-01   108.680\n",
              "2020-09-01    98.391\n",
              "2020-10-01    88.798\n",
              "2020-11-01    83.211\n",
              "2020-12-01    83.877\n",
              "2021-01-01    89.568\n",
              "2021-02-01    97.761\n",
              "2021-03-01   106.257\n",
              "2021-04-01   113.381\n",
              "2021-05-01   118.526\n",
              "2021-06-01   120.247\n",
              "2021-07-01   117.258\n",
              "2021-08-01   109.659\n",
              "2021-09-01    99.249\n",
              "2021-10-01    89.268\n",
              "2021-11-01    83.108\n",
              "2021-12-01    83.264\n",
              "2022-01-01    88.721\n",
              "2022-02-01    96.897\n",
              "2022-03-01   105.542\n",
              "2022-04-01   112.911\n",
              "2022-05-01   118.275\n",
              "2022-06-01   120.367\n",
              "2022-07-01   117.797\n",
              "2022-08-01   110.503\n",
              "2022-09-01   100.141\n",
              "2022-10-01    89.899\n",
              "2022-11-01    83.251\n",
              "2022-12-01    82.835\n",
              "2023-01-01    87.969\n",
              "2023-02-01    96.025\n",
              "2023-03-01   104.726\n",
              "2023-04-01   112.279\n",
              "2023-05-01   117.833\n",
              "2023-06-01   120.284\n",
              "2023-07-01   118.153\n",
              "2023-08-01   111.235\n",
              "2023-09-01   101.038"
            ]
          },
          "execution_count": 122,
          "metadata": {},
          "output_type": "execute_result"
        }
      ],
      "source": [
        "forecast_df"
      ]
    },
    {
      "cell_type": "code",
      "execution_count": 123,
      "metadata": {},
      "outputs": [
        {
          "data": {
            "image/png": "[encoded data removed]",
            "text/plain": [
              "<Figure size 1152x576 with 1 Axes>"
            ]
          },
          "metadata": {},
          "output_type": "display_data"
        }
      ],
      "source": [
        "ax = df.plot()\n",
        "forecast_df.plot(ax = ax, figsize = (16, 8)); "
      ]
    },
    {
      "cell_type": "code",
      "execution_count": 124,
      "metadata": {},
      "outputs": [
        {
          "data": {
            "text/plain": [
              "(576.0, 611.0)"
            ]
          },
          "execution_count": 124,
          "metadata": {},
          "output_type": "execute_result"
        },
        {
          "data": {
            "image/png": "[encoded data removed]",
            "text/plain": [
              "<Figure size 1152x576 with 1 Axes>"
            ]
          },
          "metadata": {},
          "output_type": "display_data"
        }
      ],
      "source": [
        "ax = df.plot()\n",
        "forecast_df.plot(ax = ax, figsize = (16, 8))\n",
        "plt.xlim('2018-01-01', '2020-12-01')"
      ]
    },
    {
      "cell_type": "code",
      "execution_count": 125,
      "metadata": {},
      "outputs": [
        {
          "data": {
            "text/plain": [
              "<AxesSubplot:>"
            ]
          },
          "execution_count": 125,
          "metadata": {},
          "output_type": "execute_result"
        },
        {
          "data": {
            "image/png": "[encoded data removed]",
            "text/plain": [
              "<Figure size 720x432 with 1 Axes>"
            ]
          },
          "metadata": {},
          "output_type": "display_data"
        }
      ],
      "source": [
        "dataset_total = pd.concat((df['Production'], forecast_df['Forecast']), axis=0)\n",
        "dataset_total.plot()"
      ]
    }
  ],
  "metadata": {
    "colab": {
      "name": "DL-Assignmet-3 (RNN-Time_Series-Frozen_Dessert_Production)-Student.ipynb",
      "provenance": []
    },
    "kernelspec": {
      "display_name": "Python 3",
      "language": "python",
      "name": "python3"
    },
    "language_info": {
      "codemirror_mode": {
        "name": "ipython",
        "version": 3
      },
      "file_extension": ".py",
      "mimetype": "text/x-python",
      "name": "python",
      "nbconvert_exporter": "python",
      "pygments_lexer": "ipython3",
      "version": "3.9.7"
    }
  },
  "nbformat": 4,
  "nbformat_minor": 0
}
